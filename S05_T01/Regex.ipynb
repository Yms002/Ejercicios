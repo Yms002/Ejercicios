{
 "cells": [
  {
   "cell_type": "markdown",
   "source": [
    "# Utilización de expresiones regulares (S05_T01)"
   ],
   "metadata": {}
  },
  {
   "cell_type": "code",
   "execution_count": 4,
   "source": [
    "# Importamos las librerias:\r\n",
    "import numpy as np\r\n",
    "import pandas as pd\r\n",
    "import warnings\r\n",
    "import re\r\n",
    "\r\n",
    "warnings.filterwarnings('ignore')"
   ],
   "outputs": [],
   "metadata": {}
  },
  {
   "cell_type": "code",
   "execution_count": 3,
   "source": [
    "# Abrimos los registros-logs proporcionados\r\n",
    "dflog = pd.read_table(r'..\\..\\Data-Science\\Data-sources\\Web_access_log-akumenius.com.txt', names=['Registros'])\r\n",
    "# Añadimos la siguiente configuración para poder visualizar todos los datos de las tablas:\r\n",
    "pd.set_option('display.max_columns', None)\r\n",
    "dflog.head(2)"
   ],
   "outputs": [
    {
     "output_type": "execute_result",
     "data": {
      "text/html": [
       "<div>\n",
       "<style scoped>\n",
       "    .dataframe tbody tr th:only-of-type {\n",
       "        vertical-align: middle;\n",
       "    }\n",
       "\n",
       "    .dataframe tbody tr th {\n",
       "        vertical-align: top;\n",
       "    }\n",
       "\n",
       "    .dataframe thead th {\n",
       "        text-align: right;\n",
       "    }\n",
       "</style>\n",
       "<table border=\"1\" class=\"dataframe\">\n",
       "  <thead>\n",
       "    <tr style=\"text-align: right;\">\n",
       "      <th></th>\n",
       "      <th>Registros</th>\n",
       "    </tr>\n",
       "  </thead>\n",
       "  <tbody>\n",
       "    <tr>\n",
       "      <th>0</th>\n",
       "      <td>localhost 127.0.0.1 - - [23/Feb/2014:03:10:31 ...</td>\n",
       "    </tr>\n",
       "    <tr>\n",
       "      <th>1</th>\n",
       "      <td>localhost 127.0.0.1 - - [23/Feb/2014:03:10:31 ...</td>\n",
       "    </tr>\n",
       "  </tbody>\n",
       "</table>\n",
       "</div>"
      ],
      "text/plain": [
       "                                           Registros\n",
       "0  localhost 127.0.0.1 - - [23/Feb/2014:03:10:31 ...\n",
       "1  localhost 127.0.0.1 - - [23/Feb/2014:03:10:31 ..."
      ]
     },
     "metadata": {},
     "execution_count": 3
    }
   ],
   "metadata": {}
  }
 ],
 "metadata": {
  "orig_nbformat": 4,
  "language_info": {
   "name": "python",
   "version": "3.8.8",
   "mimetype": "text/x-python",
   "codemirror_mode": {
    "name": "ipython",
    "version": 3
   },
   "pygments_lexer": "ipython3",
   "nbconvert_exporter": "python",
   "file_extension": ".py"
  },
  "kernelspec": {
   "name": "python3",
   "display_name": "Python 3.8.8 64-bit ('base': conda)"
  },
  "interpreter": {
   "hash": "79249eca07adbbd5b7b90a2fa15863c0bac6e7e1ea7cd7d2122550ceec54159a"
  }
 },
 "nbformat": 4,
 "nbformat_minor": 2
}