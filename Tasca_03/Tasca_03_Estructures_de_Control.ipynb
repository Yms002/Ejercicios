{
 "cells": [
  {
   "cell_type": "markdown",
   "metadata": {},
   "source": [
    "# Tasca 3: Estructures de Control"
   ]
  },
  {
   "cell_type": "markdown",
   "metadata": {},
   "source": [
    "## Exercici 1\n",
    "L'exercici consisteix a crear un programa que et classifiqui una variable numèrica en funció de l’escala Suspès/Aprovat/Notable/Excel·lent."
   ]
  },
  {
   "cell_type": "code",
   "execution_count": 1,
   "metadata": {},
   "outputs": [
    {
     "name": "stdout",
     "output_type": "stream",
     "text": [
      "Introdueix la nota que vols classificar: 8\n",
      "Nota introduida correctament\n",
      "Notable amb un 8.0\n"
     ]
    }
   ],
   "source": [
    "#Crearem la variable \"nota\", on s'haurà d'introduir un valor entre 0 i 10\n",
    "nota = float(input(\"Introdueix la nota que vols classificar: \"))\n",
    "\n",
    "#Creem una funció que miri si el valor introduit es vàlid (entre 0 i 10):\n",
    "def comprobació(x):\n",
    "    if 0 <= x <= 10:\n",
    "        print(\"Nota introduida correctament\")\n",
    "    else:\n",
    "        x = float(input(\"Si us plau, introdueix una nota entre 0 i 10: \"))\n",
    "        comprobació(x)\n",
    "    return x\n",
    "\n",
    "nota = comprobació(nota)\n",
    "\n",
    "# A continuació classificarem la nota intruida segons: 0-4,99 --> Suspès; 5-6,99 --> Aprovat; 7-8,99 --> Notable; 9-10 --> Excel·lent\n",
    "if nota < 5:\n",
    "    print(\"Suspès amb un \" + str(nota))\n",
    "elif 5 <= nota < 7:\n",
    "    print(\"Aprovat amb un \" + str(nota))\n",
    "elif 7 <= nota < 9:\n",
    "    print(\"Notable amb un \" + str(nota))\n",
    "else:\n",
    "    print(\"Excel·lent amb un \" + str(nota))\n",
    "\n",
    "        "
   ]
  },
  {
   "cell_type": "markdown",
   "metadata": {},
   "source": [
    "## Exercici 2\n",
    "Utilitzant el següent tutorial Programiz: Python Input, Output and Import crea un programa que et pregunti dos números. T’ha de mostrar un missatge dient si el primer és més gran, el segon és més gran o són iguals."
   ]
  },
  {
   "cell_type": "code",
   "execution_count": 2,
   "metadata": {},
   "outputs": [
    {
     "name": "stdout",
     "output_type": "stream",
     "text": [
      "Introdueix un número qualsevol: 7\n",
      "Introdueix un altre número: 0\n",
      "El primer número introduit: 7.0 és més gran que el segon: 0.0\n"
     ]
    }
   ],
   "source": [
    "# Demanem per pantalla que s'introdueixi el primer número:\n",
    "x = float(input(\"Introdueix un número qualsevol: \"))\n",
    "\n",
    "# Demanem el segon:\n",
    "y = float(input(\"Introdueix un altre número: \"))\n",
    "\n",
    "if x > y:\n",
    "    print(\"El primer número introduit: {} és més gran que el segon: {}\".format(x,y))\n",
    "elif x == y:\n",
    "    print(\"El primer número introduit: {} és igual que el segon: {}\".format(x,y))\n",
    "else:\n",
    "    print(\"El primer número introduit: {} és més petit que el segon: {}\".format(x,y))\n"
   ]
  },
  {
   "cell_type": "markdown",
   "metadata": {},
   "source": [
    "## Exercici 3\n",
    "Crea un programa que et pregunti el teu nom, i et demani un número. Si el número és 0, hauria de mostrar un missatge d’error. En cas contrari, hauria de mostrar el nom repetit tants cops com indiqui el número. Per exemple, “Joan Joan Joan”."
   ]
  },
  {
   "cell_type": "code",
   "execution_count": 3,
   "metadata": {},
   "outputs": [
    {
     "name": "stdout",
     "output_type": "stream",
     "text": [
      "Introdueix el teu nom: Yeray\n",
      "Ara, introdueix un número enter positiu o 0: 5\n",
      "YerayYerayYerayYerayYeray\n",
      "Yeray Yeray Yeray Yeray Yeray \n"
     ]
    }
   ],
   "source": [
    "# Primer preguntem el nom:\n",
    "nom = input(\"Introdueix el teu nom: \")\n",
    "\n",
    "# Demanem un número:\n",
    "num = int(input(\"Ara, introdueix un número enter positiu o 0: \"))\n",
    "\n",
    "if num <= 0:\n",
    "    print(\"Error!!\")\n",
    "    num = int(input(\"Introdueix un número enter positiu diferent de 0: \"))\n",
    "print(nom*num)\n",
    "# Posem espais entre les repeticions.\n",
    "nom_ = nom + \" \"\n",
    "print(nom_*num)"
   ]
  },
  {
   "cell_type": "markdown",
   "metadata": {},
   "source": [
    "## Exercici 4\n",
    "Crea un programa que donada una llista qualsevol, et digui si es simètrica o no. Si ho és, que et digui quants elements té."
   ]
  },
  {
   "cell_type": "code",
   "execution_count": 4,
   "metadata": {},
   "outputs": [
    {
     "name": "stdout",
     "output_type": "stream",
     "text": [
      "La llista [1, 2, 3, 2, 1] és simètrica, i té 5 valors\n",
      "La llista [1, 2, 3, 4, 5] no és simètrica.\n"
     ]
    }
   ],
   "source": [
    "# Creem dues llistes per fer les proves: una simètrica i l'altre no:\n",
    "sim = [1,2,3,2,1]\n",
    "no_sim = [1,2,3,4,5]\n",
    "\n",
    "def simetria(list):\n",
    "    for x in range(len(list)):\n",
    "        if list[x] != list[-1-x]:\n",
    "            print(\"La llista {} no és simètrica.\".format(list))\n",
    "            break\n",
    "        elif x == (len(list)-1):\n",
    "            print(\"La llista {} és simètrica, i té {} valors\".format(list, len(list)))\n",
    "\n",
    "simetria(sim)\n",
    "simetria(no_sim)"
   ]
  },
  {
   "cell_type": "markdown",
   "metadata": {},
   "source": [
    "## Exercici 5\n",
    "Crea un programa que donada una llista, et digui quants números coincideixen amb la seva posició. Per exemple [3,4,2,0,2,3,6] el 2 i el 6 coincideixen."
   ]
  },
  {
   "cell_type": "code",
   "execution_count": 8,
   "metadata": {},
   "outputs": [
    {
     "name": "stdout",
     "output_type": "stream",
     "text": [
      "La llista aleatoria obtinguda és: [9, 4, 0, 8, 7, 6, 5, 4, 8, 7]\n",
      "El número 8 està a l'index 8 de la llista\n",
      "Hi ha 1 valor/s que coincideix/en amb el/s seu/s index\n"
     ]
    }
   ],
   "source": [
    "#Creem una llista aleatoria de 10 números entre el 0 i el 9:\n",
    "import random as r\n",
    "llista = []\n",
    "for i in range(0,10):\n",
    "    n = r.randint(0,9)\n",
    "    llista.append(n)\n",
    "print(\"La llista aleatoria obtinguda és: \" + str(llista))\n",
    "\n",
    "count = 0\n",
    "for x in range(len(llista)):\n",
    "    if x == llista[x]:\n",
    "        print(\"El número {} està a l'index {} de la llista\".format(x, llista[x]))\n",
    "        count += 1\n",
    "if count == 0: print(\"No hi ha cap número que coincideixi amb el seu index\")\n",
    "else: print(\"Hi ha {} valor/s que coincideix/en amb el/s seu/s index\".format(count))"
   ]
  }
 ],
 "metadata": {
  "kernelspec": {
   "display_name": "Python 3",
   "language": "python",
   "name": "python3"
  },
  "language_info": {
   "codemirror_mode": {
    "name": "ipython",
    "version": 3
   },
   "file_extension": ".py",
   "mimetype": "text/x-python",
   "name": "python",
   "nbconvert_exporter": "python",
   "pygments_lexer": "ipython3",
   "version": "3.8.5"
  },
  "varInspector": {
   "cols": {
    "lenName": 16,
    "lenType": 16,
    "lenVar": 40
   },
   "kernels_config": {
    "python": {
     "delete_cmd_postfix": "",
     "delete_cmd_prefix": "del ",
     "library": "var_list.py",
     "varRefreshCmd": "print(var_dic_list())"
    },
    "r": {
     "delete_cmd_postfix": ") ",
     "delete_cmd_prefix": "rm(",
     "library": "var_list.r",
     "varRefreshCmd": "cat(var_dic_list()) "
    }
   },
   "types_to_exclude": [
    "module",
    "function",
    "builtin_function_or_method",
    "instance",
    "_Feature"
   ],
   "window_display": false
  }
 },
 "nbformat": 4,
 "nbformat_minor": 4
}
