{
 "cells": [
  {
   "cell_type": "markdown",
   "metadata": {},
   "source": [
    "# Tasca 4: Pràctica amb programació numèrica"
   ]
  },
  {
   "cell_type": "markdown",
   "metadata": {},
   "source": [
    " ## - Exercici 1\n",
    "Crea una funció que donat un Array d’una dimensió, et faci un resum estadístic bàsic de les dades. Si detecta que l’array té més d’una dimensió, ha de mostrar un missatge d’error."
   ]
  },
  {
   "cell_type": "code",
   "execution_count": 47,
   "metadata": {
    "code_folding": []
   },
   "outputs": [
    {
     "name": "stdout",
     "output_type": "stream",
     "text": [
      "L'array [1 2 3 5 7 8] té 1 dimensió; la seva forma és (6,); té una longitud de 6; i podem comprobar el seu type: <class 'numpy.ndarray'>, i el type dels elements de dins de l'array: int32\n",
      "L'array introduïda [[1 2 3]\n",
      " [1 2 3]] no té dimensió 1. Té 2 dimensions\n",
      "La suma dels elements és 26;\n",
      "el valor mínim és 1;\n",
      "el valor màxim és 8;\n",
      "la mitjana aritmètica és 4.333;\n",
      "el valor mig és 4.0;\n",
      "el coeficient de correlació eés 1.0;\n",
      "i la desviació estàndard és 2.56\n"
     ]
    }
   ],
   "source": [
    "# importem numpy\n",
    "import numpy as np\n",
    "# Definim la funció per chequejar l'array:\n",
    "def check_array (ar):\n",
    "    '''Analitza si l'array té 1 dimensió. Si és així, ens diu la forma, la longitud, el type i el type de la informació. Si té més d'una dimensió, ens dóna error'''\n",
    "    dim = ar.ndim\n",
    "    if dim != 1:\n",
    "        print(\"L'array introduïda {} no té dimensió 1. Té {} dimensions\".format(str(ar),str(dim)))\n",
    "    else:\n",
    "        print(\"L'array {} té {} dimensió; la seva forma és {}; té una longitud de {}; i podem comprobar el seu type: {}, i el type dels elements de dins de l'array: {}\".format(str(ar), str(dim), str(ar.shape), str(len(ar)), str(type(ar)), str(ar.dtype)))\n",
    "\n",
    "# Definim una funció per extreure dades de l'array:\n",
    "def stats_array (ar):\n",
    "    '''Extreu algunes dades de l'array '''\n",
    "    suma = ar.sum()                  # suma dels elements de l'array\n",
    "    minim = ar.min()                 # valor mínim de l'array\n",
    "    maxim = ar.max()                 # valor màxim de l'array\n",
    "    mitjana = round(ar.mean(), 3)    # mitjana aritmètica dels elements de l'array\n",
    "    mitja = round(np.median(ar), 3)  # valor mig de l'array\n",
    "    corr = np.corrcoef(ar)           # coeficient de correlació de l'array\n",
    "    std = round(np.std(ar),3)        # Desviació estàndard de l'array\n",
    "    print(\"La suma dels elements és {};\\nel valor mínim és {};\\nel valor màxim és {};\\nla mitjana aritmètica és {};\\nel valor mig és {};\\nel coeficient de correlació eés {};\\ni la desviació estàndard és {}\".format(str(suma), str(minim), str(maxim), str(mitjana), str(mitja), str(corr), str(std)))\n",
    "\n",
    "array1d = np.array([1,2,3,5,7,8])\n",
    "check_array(array1d)\n",
    "array2d = np.array([(1,2,3),(1,2,3)])\n",
    "check_array(array2d)\n",
    "stats_array(array1d)\n",
    "\n",
    "    "
   ]
  },
  {
   "cell_type": "markdown",
   "metadata": {},
   "source": [
    "## - Exercici 2\n",
    "Crea una funció que et generi un quadrat NxN de nombres aleatoris entre el 0 i el 100."
   ]
  },
  {
   "cell_type": "code",
   "execution_count": 48,
   "metadata": {},
   "outputs": [
    {
     "name": "stdout",
     "output_type": "stream",
     "text": [
      "Introdueix un nombre sencer positiu entre 1 i 205\n",
      "Número introduït correctament\n",
      "[[77  7 84 20 26]\n",
      " [17 29 97 62 13]\n",
      " [27 81 35 59 13]\n",
      " [32 93 94 60 73]\n",
      " [64 88 29 30 60]]\n",
      "La suma dels elements és 1270;\n",
      "el valor mínim és 7;\n",
      "el valor màxim és 97;\n",
      "la mitjana aritmètica és 50.8;\n",
      "el valor mig és 59.0;\n",
      "el coeficient de correlació eés [[ 1.          0.38161406 -0.55179323 -0.26374277 -0.4152545 ]\n",
      " [ 0.38161406  1.          0.1708784   0.45896404 -0.76756447]\n",
      " [-0.55179323  0.1708784   1.          0.37336172  0.28465976]\n",
      " [-0.26374277  0.45896404  0.37336172  1.          0.02315743]\n",
      " [-0.4152545  -0.76756447  0.28465976  0.02315743  1.        ]];\n",
      "i la desviació estàndard és 28.934\n"
     ]
    }
   ],
   "source": [
    "# Importem random\n",
    "import random as r\n",
    "\n",
    "# Definim la funció que crei un quadrat de NxN amb nombres aleatoris entre el 0 i 100\n",
    "def quadrat(N):\n",
    "    arrayn = np.random.randint(0,100, size=(N, N))\n",
    "    return arrayn\n",
    "def rectangle(N, M):\n",
    "    arrayn = np.random.randint(0,100, size=(N, M))\n",
    "    return arrayn\n",
    "\n",
    "# Demanem que s'introdueixi un valor per fer el quadrat de NxN\n",
    "n = int(input(\"Introdueix un nombre sencer positiu entre 1 i 20\"))\n",
    "if 1 <= n <= 20:\n",
    "    print(\"Número introduït correctament\")\n",
    "else:\n",
    "    n = int(input(\"Valor introduït incorrecte. Sisplau, introdueix un número sencer entre el 1 i el 20\"))\n",
    "\n",
    "arraynxn = quadrat(n)\n",
    "print(arraynxn)\n",
    "# Utilitzem la funció stats_array de l'exercici 1 per analitzarla:\n",
    "stats_array(arraynxn)"
   ]
  },
  {
   "cell_type": "markdown",
   "metadata": {},
   "source": [
    "## - Exercici 3\n",
    "Crea una funció que donada una taula de dues dimensions, et calculi els totals per fila i els totals per columna."
   ]
  },
  {
   "cell_type": "code",
   "execution_count": 49,
   "metadata": {},
   "outputs": [
    {
     "name": "stdout",
     "output_type": "stream",
     "text": [
      "La forma del array és: (5, 5)\n",
      "La suma dels valors en l'eix 0 és [217 298 339 231 185], i en l'eix 1 és [214 218 215 352 271]\n"
     ]
    }
   ],
   "source": [
    "# Creem la funció per calcular els totals per fila i columna:\n",
    "def totals (ar):\n",
    "    shape = ar.shape\n",
    "    print(\"La forma del array és: \" + str(shape))\n",
    "    eix0 = ar.sum(axis=0)\n",
    "    eix1 = ar.sum(axis=1)\n",
    "    print(\"La suma dels valors en l'eix 0 és {}, i en l'eix 1 és {}\".format(str(eix0),str(eix1)))\n",
    "\n",
    "totals(arraynxn)"
   ]
  },
  {
   "cell_type": "markdown",
   "metadata": {},
   "source": [
    "## - Exercici 4\n",
    "Implementa manualment una funció que calculi el coeficient de correlació. Informa’t-en sobre els seus usos i interpretació."
   ]
  },
  {
   "cell_type": "markdown",
   "metadata": {},
   "source": [
    "La fórmula del coeficient de correlació és la següent:\n",
    "<img src=\"./formula_coeficiente_correlación.png\" alt=\"FormulaCoeficientCorrelació\" width=\"600\" height=\"600\" />\n"
   ]
  },
  {
   "cell_type": "code",
   "execution_count": 50,
   "metadata": {},
   "outputs": [
    {
     "name": "stdout",
     "output_type": "stream",
     "text": [
      "Treballarem amb la matriu: \n",
      "[[65 75]\n",
      " [59 59]\n",
      " [53 86]\n",
      " [77 37]\n",
      " [62 46]\n",
      " [ 5 95]]\n",
      "El Coeficient de Correlació és: -0.7694016214432472\n",
      "Aquest coeficient varia entre -1 i 1, i ens indica com de relacionades entre elles estàn les dues variables. Quan més aprop d'1 o -1, més forta la relació. \n",
      "Si és positiva, estariem davant d'unes variables que 'quan més x, més y'; si es negativa, les variables serien de l'estil 'quan més x menys y'\n"
     ]
    }
   ],
   "source": [
    "# Hem creat una altre funció que generi una matriu aleatoria de NxM (rectangle()). Treballarem amb una matriu de 6x2:\n",
    "arraynxm = rectangle(6,2)\n",
    "print(\"Treballarem amb la matriu: \\n{}\".format(arraynxm))\n",
    "# Calculem la mitjana de cada eix (x i y):\n",
    "mean = np.mean(arraynxm, axis=0)\n",
    "#print(mean)\n",
    "meanx = mean[0]\n",
    "meany = mean[1]\n",
    "# Iniciem les variables corresponents als diferents sumatoris de la fòrmula:\n",
    "suma = sumax2 = sumay2 = 0\n",
    "# Recorrem la matriu per anar realitzant les operacions\n",
    "for x, y in arraynxm:\n",
    "    #print(\"x: {}, y: {}\".format(x,y))\n",
    "    suma = suma + (x - meanx)*(y - meany)\n",
    "    sumax2 = sumax2 + (x - meanx)**2\n",
    "    sumay2 = sumay2 + (y - meany)**2\n",
    "# El coeficient de correlació (r) serà:\n",
    "r = suma/(sumax2 * sumay2)**0.5\n",
    "print(\"El Coeficient de Correlació és: \" + str(r))\n",
    "print(\"Aquest coeficient varia entre -1 i 1, i ens indica com de relacionades entre elles estàn les dues variables. Quan més aprop d'1 o -1, més forta la relació. \\nSi és positiva, estariem davant d'unes variables que 'quan més x, més y'; si es negativa, les variables serien de l'estil 'quan més x menys y'\")"
   ]
  }
 ],
 "metadata": {
  "hide_input": false,
  "kernelspec": {
   "display_name": "Python 3",
   "language": "python",
   "name": "python3"
  },
  "language_info": {
   "codemirror_mode": {
    "name": "ipython",
    "version": 3
   },
   "file_extension": ".py",
   "mimetype": "text/x-python",
   "name": "python",
   "nbconvert_exporter": "python",
   "pygments_lexer": "ipython3",
   "version": "3.8.5"
  },
  "toc": {
   "base_numbering": 1,
   "nav_menu": {},
   "number_sections": true,
   "sideBar": true,
   "skip_h1_title": false,
   "title_cell": "Table of Contents",
   "title_sidebar": "Contents",
   "toc_cell": false,
   "toc_position": {},
   "toc_section_display": true,
   "toc_window_display": false
  },
  "varInspector": {
   "cols": {
    "lenName": 16,
    "lenType": 16,
    "lenVar": 40
   },
   "kernels_config": {
    "python": {
     "delete_cmd_postfix": "",
     "delete_cmd_prefix": "del ",
     "library": "var_list.py",
     "varRefreshCmd": "print(var_dic_list())"
    },
    "r": {
     "delete_cmd_postfix": ") ",
     "delete_cmd_prefix": "rm(",
     "library": "var_list.r",
     "varRefreshCmd": "cat(var_dic_list()) "
    }
   },
   "types_to_exclude": [
    "module",
    "function",
    "builtin_function_or_method",
    "instance",
    "_Feature"
   ],
   "window_display": false
  }
 },
 "nbformat": 4,
 "nbformat_minor": 4
}
