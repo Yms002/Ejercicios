{
 "cells": [
  {
   "cell_type": "markdown",
   "source": [
    "# S12_T01: Aprenentatge Supervisat - Regressions"
   ],
   "metadata": {}
  },
  {
   "cell_type": "markdown",
   "source": [
    "## Nivell 1"
   ],
   "metadata": {}
  },
  {
   "cell_type": "markdown",
   "source": [
    "### - Exercici 1: \r\n",
    "Crea almenys tres models de regressió diferents per intentar predir el millor possible l’endarreriment dels vols (ArrDelay) de DelayedFlights.csv."
   ],
   "metadata": {}
  },
  {
   "cell_type": "markdown",
   "source": [
    "### - Exercici 2:\r\n",
    "Compara’ls en base al MSE i al R2"
   ],
   "metadata": {}
  },
  {
   "cell_type": "markdown",
   "source": [
    "### - Exerici 3: \r\n",
    "Entrena’ls utilitzant els diferents paràmetres que admeten."
   ],
   "metadata": {}
  },
  {
   "cell_type": "markdown",
   "source": [
    "### - Exercici 4:\r\n",
    "Compara el seu rendiment utilitzant l’aproximació traint/test o utilitzant totes les dades (validació interna)"
   ],
   "metadata": {}
  },
  {
   "cell_type": "markdown",
   "source": [
    "## Nivell 2"
   ],
   "metadata": {}
  },
  {
   "cell_type": "markdown",
   "source": [
    "### - Exercici 5:\r\n",
    "Realitza algun procés d’enginyeria de variables per millorar-ne la predicció"
   ],
   "metadata": {}
  },
  {
   "cell_type": "markdown",
   "source": [
    "## Nivell 3"
   ],
   "metadata": {}
  },
  {
   "cell_type": "markdown",
   "source": [
    "### - Exercici 6:\r\n",
    "No utilitzis la variable DepDelay a l’hora de fer prediccions"
   ],
   "metadata": {}
  },
  {
   "cell_type": "markdown",
   "source": [],
   "metadata": {}
  }
 ],
 "metadata": {
  "orig_nbformat": 4,
  "language_info": {
   "name": "python"
  }
 },
 "nbformat": 4,
 "nbformat_minor": 2
}