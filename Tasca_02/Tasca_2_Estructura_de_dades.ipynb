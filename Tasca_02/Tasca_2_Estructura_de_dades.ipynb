{
 "cells": [
  {
   "cell_type": "markdown",
   "metadata": {},
   "source": [
    "# Exercici de la tasca 2: Estructura de dades"
   ]
  },
  {
   "cell_type": "markdown",
   "metadata": {},
   "source": [
    "- Exercici 1:\n",
    "Crea una llista que agrupi els mesos de l’any en trimestres (1T: Gener, Febrer i Març, 2T: Abril, Maig, Juny...), és a dir, una llista amb 4 llistes dins.\n",
    "\n",
    "- Exercici 2:\n",
    "Crea un codi que et permeti accedir a:\n",
    "\n",
    "    * El segon mes del primer trimestre\n",
    "    * Els mesos del primer trimestre\n",
    "    * Setembre i octubre\n",
    "\n",
    "- Exercici 3:\n",
    "Crea una llista amb nombres desordenats i respon a les següents preguntes:\n",
    "\n",
    "    * Quants números hi ha?\n",
    "    * Quantes vegades apareix el número 3\n",
    "    * Quantes vegades apareixen els nombres 3 i 4?\n",
    "    * Quin és el número més gran?\n",
    "    * Quins són els 3 números més petits?\n",
    "    * Quin és el rang d’aquesta llista?\n",
    "\n",
    "- Exercici 4:\n",
    "Crea un diccionari de la següent forma i respon a les preguntes: compra = { \"Pomes\" : {\"Qty\": 5, \"€\": 0.42}, \"Peres\" : {\"Qty\": 3, \"€\": 0.66} }\n",
    "\n",
    "    * Afegeix alguna fruita més\n",
    "    * Quant han costat les peres en total?\n",
    "    * Quantes fruites hem comprat en total?\n",
    "    * Quina és la fruita més cara?\n"
   ]
  },
  {
   "cell_type": "code",
   "execution_count": 1,
   "metadata": {
    "ExecuteTime": {
     "end_time": "2021-04-19T13:37:38.452661Z",
     "start_time": "2021-04-19T13:37:38.444663Z"
    },
    "code_folding": []
   },
   "outputs": [
    {
     "name": "stdout",
     "output_type": "stream",
     "text": [
      "Trimestres és un objecte: <class 'list'> i conté el que es mostra a continuació\n",
      "[['Gener', 'Febrer', 'Març'], ['Abril', 'Maig', 'Juny'], ['Juliol', 'Agost', 'Setembre'], ['Octubre', 'Novembre', 'Decembre']]\n",
      "T1, T2, T3 i T4 són objectes: <class 'list'>\n"
     ]
    }
   ],
   "source": [
    "#Exercici 1\n",
    "T1 = [\"Gener\", \"Febrer\", \"Març\"]\n",
    "T2 = [\"Abril\", \"Maig\", \"Juny\"]\n",
    "T3 = [\"Juliol\", \"Agost\", \"Setembre\"]\n",
    "T4 = [\"Octubre\", \"Novembre\", \"Decembre\"]\n",
    "\n",
    "trimestres = [T1, T2, T3, T4]\n",
    "print(\"Trimestres és un objecte: \" + str(type(trimestres)) + \" i conté el que es mostra a continuació\")\n",
    "print(trimestres)\n",
    "print(\"T1, T2, T3 i T4 són objectes: \" + str(type(T1)))"
   ]
  },
  {
   "cell_type": "code",
   "execution_count": 2,
   "metadata": {
    "ExecuteTime": {
     "end_time": "2021-04-19T13:37:50.233152Z",
     "start_time": "2021-04-19T13:37:50.228154Z"
    },
    "code_folding": [],
    "run_control": {
     "marked": false
    }
   },
   "outputs": [
    {
     "name": "stdout",
     "output_type": "stream",
     "text": [
      "Accedint desde la llista trimestres[0][1]: Febrer\n",
      "Accedint desde la llista T1[1]: Febrer\n"
     ]
    }
   ],
   "source": [
    "#Accedir al segon mes del primer trimestre, és a dir: \"Febrer\"\n",
    "print(\"Accedint desde la llista trimestres[0][1]: \" + trimestres[0][1])\n",
    "print(\"Accedint desde la llista T1[1]: \" + T1[1])"
   ]
  },
  {
   "cell_type": "code",
   "execution_count": 3,
   "metadata": {
    "ExecuteTime": {
     "end_time": "2021-04-19T13:35:15.886326Z",
     "start_time": "2021-04-19T13:35:15.880329Z"
    },
    "code_folding": []
   },
   "outputs": [
    {
     "name": "stdout",
     "output_type": "stream",
     "text": [
      "Accedint desde la llista trimestres[0]: ['Gener', 'Febrer', 'Març']\n",
      "Accedint desde la llista T1: ['Gener', 'Febrer', 'Març']\n"
     ]
    }
   ],
   "source": [
    "#Accedir als mesos del primer trimestre, és a dir: \"Gener\", \"Febrer\", \"Març\":\n",
    "print(\"Accedint desde la llista trimestres[0]: \" + str(trimestres[0]))\n",
    "print(\"Accedint desde la llista T1: \" + str(T1))"
   ]
  },
  {
   "cell_type": "code",
   "execution_count": 4,
   "metadata": {
    "ExecuteTime": {
     "end_time": "2021-04-19T13:48:34.980732Z",
     "start_time": "2021-04-19T13:48:34.975751Z"
    },
    "code_folding": []
   },
   "outputs": [
    {
     "name": "stdout",
     "output_type": "stream",
     "text": [
      "Accedint desde la llista trimestres[2][2] i trimestres[3][0]: Setembre i Octubre\n",
      "Accedint desde la llista T3[2]: Setembre i T4[0]: Octubre\n"
     ]
    }
   ],
   "source": [
    "#Accedir als mesos \"Setembre\" i \"Octubre\":\n",
    "print(\"Accedint desde la llista trimestres[2][2] i trimestres[3][0]: \" + trimestres[2][2] + \" i \" + trimestres[3][0])\n",
    "print(\"Accedint desde la llista T3[2]: \" + T3[2] + \" i T4[0]: \" + T4[0])"
   ]
  },
  {
   "cell_type": "code",
   "execution_count": 5,
   "metadata": {
    "ExecuteTime": {
     "end_time": "2021-04-19T13:56:49.965432Z",
     "start_time": "2021-04-19T13:56:49.960420Z"
    }
   },
   "outputs": [
    {
     "name": "stdout",
     "output_type": "stream",
     "text": [
      "La llista aleatoria obtinguda és: [44, 68, 48, 21, 73, 65, 69, 50, 82, 37, 50, 70, 57, 79, 1, 11, 70, 66, 54, 10]\n"
     ]
    }
   ],
   "source": [
    "#Exercici 3: crearem una llista de números aleatoris amb l'ajut del modul \"random\"\n",
    "import random as r\n",
    "llista_aleatoria = []\n",
    "for i in range(0,20):\n",
    "    n = r.randint(1,100)\n",
    "    llista_aleatoria.append(n)\n",
    "print(\"La llista aleatoria obtinguda és: \" + str(llista_aleatoria))\n"
   ]
  },
  {
   "cell_type": "code",
   "execution_count": 6,
   "metadata": {
    "ExecuteTime": {
     "end_time": "2021-04-19T16:48:46.264672Z",
     "start_time": "2021-04-19T16:48:46.255692Z"
    },
    "code_folding": [],
    "scrolled": true
   },
   "outputs": [
    {
     "name": "stdout",
     "output_type": "stream",
     "text": [
      "Hi ha 20 números. El loop s'ha fet per un rang de 0 a 20\n",
      "El número 3 apareix 0 'vegades'\n",
      "Els números 3 i 4 apareixen 0 'vegades' a la llista numèrica\n",
      "Els números 3 i 4 apareixen 6 'vegades' a la llista string\n",
      "El número més gran és: 82\n",
      "Els tres números més baixos son: [1, 10, 11]\n",
      "El rang (valor màxim menys valor mínim) de la llista aleatoria és: 81\n"
     ]
    }
   ],
   "source": [
    "#Podem saber quans valors hi ha a la llista amb la funció \"len()\"\n",
    "print(\"Hi ha \" + str(len(llista_aleatoria)) + \" números. El loop s'ha fet per un rang de 0 a 20\")\n",
    "\n",
    "#Per veure quants cops apareix el número 3, podem fer servir el mètode \"count()\"\n",
    "print(\"El número 3 apareix \" + str(llista_aleatoria.count(3)) + \" 'vegades'\")\n",
    "llista_str = str(list(llista_aleatoria))\n",
    "print(\"Els números 3 i 4 apareixen \" + str((llista_aleatoria.count(3) + llista_aleatoria.count(4))) + \" 'vegades' a la llista numèrica\")\n",
    "print(\"Els números 3 i 4 apareixen \" + str((llista_str.count(\"3\") + llista_str.count(\"4\"))) + \" 'vegades' a la llista string\")\n",
    "#Per trobar el número més gran, utilitzarem la funció \"max()\"\n",
    "print(\"El número més gran és: \" + str(max(llista_aleatoria)))\n",
    "\n",
    "#Per trobar els tres números més baixos, una opció es ordenar la llista i extreure els 3 primers:\n",
    "llista_sorted = list(llista_aleatoria)\n",
    "llista_sorted.sort()\n",
    "print(\"Els tres números més baixos son: \" + str(llista_sorted[0:3]))\n",
    "print(\"El rang (valor màxim menys valor mínim) de la llista aleatoria és: \" + str(max(llista_aleatoria) - min(llista_aleatoria)))  "
   ]
  },
  {
   "cell_type": "code",
   "execution_count": 7,
   "metadata": {
    "ExecuteTime": {
     "end_time": "2021-04-19T17:41:00.228584Z",
     "start_time": "2021-04-19T17:41:00.222588Z"
    },
    "code_folding": []
   },
   "outputs": [
    {
     "name": "stdout",
     "output_type": "stream",
     "text": [
      "El diccionari s'ha actualitzat i ara surten els plátans també: {'Pomes': {'Qty': 5, '€': 0.42}, 'Peres': {'Qty': 3, '€': 0.66}, 'Platans': {'Qty': 6, '€': 0.22}}\n",
      "El preu de les 3 peres a 0,66€ és de 1.98€\n",
      "Hem comprat un total de 14 fruites\n",
      "La fruita més cara és: Peres; i costa: 0.66€\n"
     ]
    }
   ],
   "source": [
    "#Exercici 4\n",
    "compra = { \"Pomes\" : {\"Qty\": 5, \"€\": 0.42}, \"Peres\" : {\"Qty\": 3, \"€\": 0.66} }\n",
    "\n",
    "#Afegim \"Platans\", una quantitat de 6 i 0.22€\n",
    "compra.update({\"Platans\": {\"Qty\": 6, \"€\": 0.22}})\n",
    "print(\"El diccionari s'ha actualitzat i ara surten els plátans també: \" + str(compra))\n",
    "#keys_dict = compra[\"Peres\"].keys()\n",
    "#print(keys_dict)\n",
    "#Calculem l'import de les \"peres\"\n",
    "preu_peres = compra[\"Peres\"][\"Qty\"]*compra[\"Peres\"][\"€\"]\n",
    "print(\"El preu de les 3 peres a 0,66€ és de \" + str(preu_peres) + \"€\")\n",
    "\n",
    "#Calculem la quantitat de fruites que hem comprat:\n",
    "quantitat = 0\n",
    "for fruita in compra.items():\n",
    "    quantitat = quantitat + fruita[1][\"Qty\"]\n",
    "print(\"Hem comprat un total de \" + str(quantitat) + \" fruites\")\n",
    "\n",
    "#Busquem la fruita més cara:\n",
    "fruita_cara = max(compra[\"Pomes\"][\"€\"], compra[\"Peres\"][\"€\"], compra[\"Platans\"][\"€\"])\n",
    "for k, v in compra.items():\n",
    "    #print(\"k: \" + str(k))\n",
    "    #print(\"v: \" + str(v))\n",
    "    for k1, v1 in v.items():\n",
    "        #print(\"k1: \" + str(k1))\n",
    "        #rint(\"v1: \" + str(v1))\n",
    "        if v1 == fruita_cara:\n",
    "            print(\"La fruita més cara és: \" + k + \"; i costa: \" + str(fruita_cara) + \"€\")\n",
    "        \n",
    "            "
   ]
  }
 ],
 "metadata": {
  "kernelspec": {
   "display_name": "Python 3",
   "language": "python",
   "name": "python3"
  },
  "language_info": {
   "codemirror_mode": {
    "name": "ipython",
    "version": 3
   },
   "file_extension": ".py",
   "mimetype": "text/x-python",
   "name": "python",
   "nbconvert_exporter": "python",
   "pygments_lexer": "ipython3",
   "version": "3.8.5"
  },
  "varInspector": {
   "cols": {
    "lenName": 16,
    "lenType": 16,
    "lenVar": 40
   },
   "kernels_config": {
    "python": {
     "delete_cmd_postfix": "",
     "delete_cmd_prefix": "del ",
     "library": "var_list.py",
     "varRefreshCmd": "print(var_dic_list())"
    },
    "r": {
     "delete_cmd_postfix": ") ",
     "delete_cmd_prefix": "rm(",
     "library": "var_list.r",
     "varRefreshCmd": "cat(var_dic_list()) "
    }
   },
   "types_to_exclude": [
    "module",
    "function",
    "builtin_function_or_method",
    "instance",
    "_Feature"
   ],
   "window_display": false
  }
 },
 "nbformat": 4,
 "nbformat_minor": 4
}
