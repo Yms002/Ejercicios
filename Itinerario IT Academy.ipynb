{
 "cells": [
  {
   "cell_type": "markdown",
   "source": [
    "# Itinerari Data Science amb Python"
   ],
   "metadata": {}
  },
  {
   "cell_type": "markdown",
   "source": [
    "## Sprint 1. Instal·lació de l'entorn de treball"
   ],
   "metadata": {}
  },
  {
   "cell_type": "markdown",
   "source": [
    "Durada : 2 dies \r\n",
    "\r\n",
    "Objectius : \r\n",
    "\r\n",
    "L'objectiu d'aquest sprint és conèixer, familiaritzar-nos i instal·lar el nostre entorn de treball al llarg de l'Itinerari Data Science amb Python.\r\n",
    "\r\n",
    "Jupyter Notebook (Anaconda)\r\n",
    "Markdown\r\n",
    "Si algun recurs de towardsdatascience o medium demana registre, proveu d’obrir-lo en finestra d’incògnit."
   ],
   "metadata": {}
  },
  {
   "cell_type": "markdown",
   "source": [
    "### Instal·lació de l’entorn\r\n",
    "https://docs.anaconda.com/anaconda/install/"
   ],
   "metadata": {}
  },
  {
   "cell_type": "markdown",
   "source": [
    "### Introducció a l’entorn de programació\r\n",
    "https://realpython.com/jupyter-notebook-introduction/"
   ],
   "metadata": {}
  },
  {
   "cell_type": "markdown",
   "source": [
    "### Tutorial Web: Introducció a Github\r\n",
    "https://guides.github.com/activities/hello-world/"
   ],
   "metadata": {}
  },
  {
   "cell_type": "markdown",
   "source": [
    "### Jupyter Notebook i Markdown CheatSheet\r\n",
    "En la carpeta /cheatSheet"
   ],
   "metadata": {}
  },
  {
   "cell_type": "markdown",
   "source": [
    "## Sprint 2. Introducció a Python"
   ],
   "metadata": {}
  },
  {
   "cell_type": "markdown",
   "source": [
    "Durada : 5 dies \r\n",
    "\r\n",
    "Objectiu general: \r\n",
    "\r\n",
    "Conèixer i entendre els fonaments bàsics del Python  \r\n",
    "Objectius específics:\r\n",
    "\r\n",
    "- Interpretar i aplicar les seves funcions principals \r\n",
    "- Utilitzar correctament eines complementàries (Jupyter Notebook) \r\n",
    "- Crear variables \r\n",
    "- Realitzar tècniques amb String \r\n",
    " \r\n",
    "Si algun recurs de towardsdatascience o medium demana registre, proveu d’obrir-lo en finestra d’incògnit."
   ],
   "metadata": {}
  },
  {
   "cell_type": "markdown",
   "source": [
    "### Introducció a Python\r\n",
    "https://www.w3schools.com/python/default.asp"
   ],
   "metadata": {}
  },
  {
   "cell_type": "markdown",
   "source": [
    "### Introducció a Python (complementària)\r\n",
    "https://www.datacamp.com/courses/intro-to-python-for-data-science"
   ],
   "metadata": {}
  },
  {
   "cell_type": "markdown",
   "source": [
    "### Conceptes fonamentals de Python\r\n",
    "https://docs.hektorprofe.net/python/"
   ],
   "metadata": {}
  },
  {
   "cell_type": "markdown",
   "source": [
    "### Tasca S02_T01: Jupyter Notebook i Markdown\r\n",
    "C:\\Users\\yeray\\Notebooks\\Ejercicios\\S02_T01"
   ],
   "metadata": {}
  },
  {
   "cell_type": "markdown",
   "source": [
    "## Sprint 3. Estructura de dades i Estructures de Control"
   ],
   "metadata": {}
  },
  {
   "cell_type": "markdown",
   "source": [
    "Durada : 10 dies \r\n",
    "\r\n",
    "\r\n",
    "Objectiu general: \r\n",
    "\r\n",
    "Conèixer i entendre els fonaments bàsics del Python  \r\n",
    "Objectius específics: \r\n",
    "\r\n",
    "- Saber els diferents tipus d'estructura de dades \r\n",
    "- Realitzar correctament estructura de control, condicionants i bucles \r\n",
    "- Creació de funcions \r\n",
    " \r\n",
    "Si algun recurs de towardsdatascience o medium demana registre, proveu d’obrir-lo en finestra d’incògnit"
   ],
   "metadata": {}
  },
  {
   "cell_type": "markdown",
   "source": [
    "### Estructures de dades\r\n",
    "https://www.w3schools.com/python/python_lists.asp"
   ],
   "metadata": {}
  },
  {
   "cell_type": "markdown",
   "source": [
    "### Tasca S03_T01: Estructura de dades\r\n",
    "C:\\Users\\yeray\\Notebooks\\Ejercicios\\S03_T01"
   ],
   "metadata": {}
  },
  {
   "cell_type": "markdown",
   "source": [
    "### Tasca S03_T02: Estructura d'una Matriu\r\n",
    "C:\\Users\\yeray\\Notebooks\\Ejercicios\\S03_T02"
   ],
   "metadata": {}
  },
  {
   "cell_type": "markdown",
   "source": [
    "### Introducció condicionals i bucles\r\n",
    "https://www.w3schools.com/python/python_conditions.asp"
   ],
   "metadata": {}
  },
  {
   "cell_type": "markdown",
   "source": [
    "### Estructures de control if/else/elif\r\n",
    "https://www.programiz.com/python-programming/if-elif-else"
   ],
   "metadata": {}
  },
  {
   "cell_type": "markdown",
   "source": [
    "### Creació de funcions pròpies\r\n",
    "https://www.w3schools.com/python/python_functions.asp"
   ],
   "metadata": {}
  },
  {
   "cell_type": "markdown",
   "source": [
    "### Tasca S03_T03: Estructura de control\r\n",
    "C:\\Users\\yeray\\Notebooks\\Ejercicios\\S03_T03"
   ],
   "metadata": {}
  },
  {
   "cell_type": "markdown",
   "source": [
    "### Introducció a Numpy\r\n",
    "https://www.w3schools.com/python/numpy/numpy_intro.asp"
   ],
   "metadata": {}
  },
  {
   "cell_type": "markdown",
   "source": [
    "### Tasca S03_T04: Pràctica amb programació numèrica\r\n",
    "C:\\Users\\yeray\\Notebooks\\Ejercicios\\S03_T04"
   ],
   "metadata": {}
  },
  {
   "cell_type": "markdown",
   "source": [
    "### Dataframes\r\n",
    "https://tutswiki.com/pandas-cookbook/"
   ],
   "metadata": {}
  },
  {
   "cell_type": "markdown",
   "source": [
    "### Tutorial Complert i llibreria Pandas\r\n",
    "https://www.learndatasci.com/tutorials/python-pandas-tutorial-complete-introduction-for-beginners/"
   ],
   "metadata": {}
  },
  {
   "cell_type": "markdown",
   "source": [
    "### Resumir dataframes\r\n",
    "https://www.tutorialspoint.com/python_pandas/python_pandas_groupby.htm"
   ],
   "metadata": {}
  },
  {
   "cell_type": "markdown",
   "source": [
    "### Tasca S03_T05: Exploració de les dades\r\n",
    "C:\\Users\\yeray\\Notebooks\\Ejercicios\\S03_T05"
   ],
   "metadata": {}
  },
  {
   "cell_type": "markdown",
   "source": [
    "## Sprint 4. Visualització de les dades"
   ],
   "metadata": {}
  },
  {
   "cell_type": "markdown",
   "source": [
    "Durada : 8 dies \r\n",
    "\r\n",
    "\r\n",
    "Objectiu general:  \r\n",
    "\r\n",
    "- Entendre i aplicar les diferents tècniques de visualització amb Python \r\n",
    " \r\n",
    "Objectius específics:  \r\n",
    "\r\n",
    "- Conèixer les diferents llibreries Matplotlib i Seaborn\r\n",
    "\r\n",
    "Si algun recurs de towardsdatascience o medium demana registre, proveu d’obrir-lo en finestra d’incògnit."
   ],
   "metadata": {}
  },
  {
   "cell_type": "markdown",
   "source": [
    "### Introducció a Matplotlib\r\n",
    "https://www.w3schools.com/python/matplotlib_intro.asp"
   ],
   "metadata": {}
  },
  {
   "cell_type": "markdown",
   "source": [
    "### Introducció a Matplotlib (Complementaria)\r\n",
    "https://matplotlib.org/stable/tutorials/introductory/pyplot.html"
   ],
   "metadata": {}
  },
  {
   "cell_type": "markdown",
   "source": [
    "### Galeria Matplotlib\r\n",
    "https://matplotlib.org/stable/gallery/index.html"
   ],
   "metadata": {}
  },
  {
   "cell_type": "markdown",
   "source": [
    "### Introducció Seaborn\r\n",
    "https://seaborn.pydata.org/tutorial/function_overview.html"
   ],
   "metadata": {}
  },
  {
   "cell_type": "markdown",
   "source": [
    "### Galeria Seaborn\r\n",
    "https://seaborn.pydata.org/examples/index.html"
   ],
   "metadata": {}
  },
  {
   "cell_type": "markdown",
   "source": [
    "### Tasca S04_T01: Visualització gràfica d'un dataset\r\n",
    "C:\\Users\\yeray\\Notebooks\\Ejercicios\\S04_T01"
   ],
   "metadata": {}
  },
  {
   "cell_type": "markdown",
   "source": [
    "### Tasca S04_T02: Visualització gràfica de Múltiples variables\r\n",
    "C:\\Users\\yeray\\Notebooks\\Ejercicios\\S04_T02"
   ],
   "metadata": {}
  },
  {
   "cell_type": "markdown",
   "source": [
    "### Recursos complementaris interessants\r\n",
    "\r\n",
    "- https://datavizcatalogue.com/\r\n",
    "- https://www.data-to-viz.com/\r\n",
    "- http://www-personal.umich.edu/~mejn/election/2016/"
   ],
   "metadata": {}
  },
  {
   "cell_type": "markdown",
   "source": [
    "## Sprint 5. Altres mòduls bàsics de Python"
   ],
   "metadata": {}
  },
  {
   "cell_type": "markdown",
   "source": [
    "Durada : 4 dies \r\n",
    "\r\n",
    "Objectiu general:  \r\n",
    "\r\n",
    "- Aprendre altres estructures i models bàsics de Python  \r\n",
    "\r\n",
    "Objectius específics: \r\n",
    "\r\n",
    "- Aplicar adequadament el JSON  \r\n",
    "- Interpretar el llenguatge del RegEx\r\n",
    "- Altres conceptes: Classes, Objectes i Dates.\r\n",
    "\r\n",
    "Si algun recurs de towardsdatascience o medium demana registre, proveu d’obrir-lo en finestra d’incògnit."
   ],
   "metadata": {}
  },
  {
   "cell_type": "markdown",
   "source": [
    "### Curs complementari d'analítica y ciència de dades\r\n",
    "https://cibernarium.barcelonactiva.cat/web/guest/ficha-actividad?activityId=1019544"
   ],
   "metadata": {}
  },
  {
   "cell_type": "markdown",
   "source": [
    "### Mòduls Avançats de Python i POO\r\n",
    "https://www.w3schools.com/python/python_classes.asp"
   ],
   "metadata": {}
  },
  {
   "cell_type": "markdown",
   "source": [
    "### Guia de referència general i mòduls\r\n",
    "https://www.w3schools.com/python/python_reference.asp"
   ],
   "metadata": {}
  },
  {
   "cell_type": "markdown",
   "source": [
    "### Programació científica en SciPy\r\n",
    "https://www.w3schools.com/python/scipy/scipy_intro.php"
   ],
   "metadata": {}
  },
  {
   "cell_type": "markdown",
   "source": [
    "### Recursos complementaris interessants\r\n",
    "https://regex101.com/"
   ],
   "metadata": {}
  },
  {
   "cell_type": "markdown",
   "source": [
    "### Tasca S05_T01: Transformació Registre Log amb Regular expressions\r\n",
    "C:\\Users\\yeray\\Notebooks\\Ejercicios\\S05_T01"
   ],
   "metadata": {}
  },
  {
   "cell_type": "markdown",
   "source": [
    "## Sprint 6 : Mètodes de Mostreig"
   ],
   "metadata": {}
  },
  {
   "cell_type": "markdown",
   "source": [
    "Durada : 3 dies \r\n",
    "\r\n",
    "\r\n",
    "Objectiu general: \r\n",
    "\r\n",
    "- Aplicar les tècniques del mètode de Mostreig  \r\n",
    "\r\n",
    "Objectiu específic:  \r\n",
    "\r\n",
    "- Conèixer les diferents tipologies  \r\n",
    "- Revisar un conjunt de dades  "
   ],
   "metadata": {}
  },
  {
   "cell_type": "markdown",
   "source": [
    "### Una introducció als mètodes de mostreig\r\n",
    "https://www.scribbr.com/methodology/sampling-methods/"
   ],
   "metadata": {}
  },
  {
   "cell_type": "markdown",
   "source": [
    "### Mostreig a estadístiques: diferents mètodes, tipus i errors de mostreig\r\n",
    "https://www.statisticshowto.com/probability-and-statistics/sampling-in-statistics/"
   ],
   "metadata": {}
  },
  {
   "cell_type": "markdown",
   "source": [
    "### Els cinc algorismes de mostreig\r\n",
    "https://towardsdatascience.com/the-5-sampling-algorithms-every-data-scientist-need-to-know-43c7bc11d17c"
   ],
   "metadata": {}
  },
  {
   "cell_type": "markdown",
   "source": [
    "### Revisió dels mètodes de mostreig\r\n",
    "https://www.khanacademy.org/math/statistics-probability/designing-studies/sampling-methods-stats/a/sampling-methods-review"
   ],
   "metadata": {}
  },
  {
   "cell_type": "markdown",
   "source": [
    "### Disseny d'estudi\r\n",
    "https://www.khanacademy.org/math/statistics-probability/designing-studies"
   ],
   "metadata": {}
  },
  {
   "cell_type": "markdown",
   "source": [
    "### Tipus de tècniques de mostreig\r\n",
    "https://www.analyticsvidhya.com/blog/2019/09/data-scientists-guide-8-types-of-sampling-techniques/"
   ],
   "metadata": {}
  },
  {
   "cell_type": "markdown",
   "source": [
    "### Qüestionari d'autoavaluació de mètodes de mostreig\r\n",
    "C:\\Users\\yeray\\Notebooks\\Ejercicios\\Qüestionaris\\QS06.jpg"
   ],
   "metadata": {}
  },
  {
   "cell_type": "markdown",
   "source": [
    "### Tasca S06_T01: Tasca mètodes de mostreig\r\n",
    "C:\\Users\\yeray\\Notebooks\\Ejercicios\\S06_T01"
   ],
   "metadata": {}
  },
  {
   "cell_type": "markdown",
   "source": [
    "## Sprint 7: Dades, Probabilitats i Estadístiques"
   ],
   "metadata": {}
  },
  {
   "cell_type": "markdown",
   "source": [
    "Durada : 4 dies \r\n",
    "\r\n",
    "Objectiu general: \r\n",
    "\r\n",
    "- Profunditzar en l'estadística i probabilitat per l'Aprenentatge automàtic  \r\n",
    "\r\n",
    "Objectius específics:  \r\n",
    "\r\n",
    "- Comprendre les seves aplicacions  \r\n",
    "- Calcular diferents estadístiques de dades  \r\n",
    "- Representar gràficament diferents estadístiques de les dades "
   ],
   "metadata": {}
  },
  {
   "cell_type": "markdown",
   "source": [
    "### Introducció Probabilitat i Estadística: seccions de Probability and statistics a Normal distribution\r\n",
    "https://www.mathsisfun.com/data/"
   ],
   "metadata": {}
  },
  {
   "cell_type": "markdown",
   "source": [
    "### Random Variables\r\n",
    "https://www.khanacademy.org/math/statistics-probability/random-variables-stats-library"
   ],
   "metadata": {}
  },
  {
   "cell_type": "markdown",
   "source": [
    "### Sampling distributions\r\n",
    "https://www.khanacademy.org/math/statistics-probability/sampling-distributions-library"
   ],
   "metadata": {}
  },
  {
   "cell_type": "markdown",
   "source": [
    "### Inferència de dues mostres per a la diferència entre grups\r\n",
    "https://www.khanacademy.org/math/statistics-probability/significance-tests-confidence-intervals-two-samples"
   ],
   "metadata": {}
  },
  {
   "cell_type": "markdown",
   "source": [
    "### Comprensió de les aplicacions de la Probabilitat en l'Aprenentatge Automàtic\r\n",
    "https://www.datasciencecentral.com/profiles/blogs/understanding-the-applications-of-probability-in-machine-learning#:~:text=Probability%20is%20a%20measure%20of,make%20decisions%20with%20incomplete%20information.&text=Using%20probability%2C%20we%20can%20model,and%20many%20other%20business%20processes."
   ],
   "metadata": {}
  },
  {
   "cell_type": "markdown",
   "source": [
    "### Probabilitat d'Aprenentatge Automàtic\r\n",
    "https://machinelearningmastery.com/probability-for-machine-learning-7-day-mini-course/"
   ],
   "metadata": {}
  },
  {
   "cell_type": "markdown",
   "source": [
    "### Qüestionari d'autoavaluació de probabilitat i estadística\r\n",
    "C:\\Users\\yeray\\Notebooks\\Ejercicios\\Qüestionaris\\QS07.jpg"
   ],
   "metadata": {}
  },
  {
   "cell_type": "markdown",
   "source": [
    "###  Bibliografia complementària\r\n",
    "- DeGroot, Morris H.. - Probabilidad y estadística. Addison-Wesley Iberoamericana, 1988\r\n",
    "- Delgado, R.. - Probabilidad y Estadística para ciencias e ingenierías. Editorial Delta, 2008\r\n",
    "- Devore, Jay L.. - Probabilidad y Estadística para ingeniería y ciencias. Cengage Learning Editores, 2012\r\n",
    "- Kai Lai, Chung. - Teoría elemental de la probabilidad y los procesos estocásticos. Reverté, 1983\r\n",
    "- Moore, D. S.. - Estadística aplicada básica. Antonio Bosch Editor, 2000\r\n",
    "- Peña, D.. - Estadística. Fundamentos de estadística. Alianza Universidad, 2001"
   ],
   "metadata": {}
  },
  {
   "cell_type": "markdown",
   "source": [
    "### Material Complementari: Probability\r\n",
    "https://www.khanacademy.org/math/statistics-probability/probability-library"
   ],
   "metadata": {}
  },
  {
   "cell_type": "markdown",
   "source": [
    "### Material Complementari: Counting, permutations and combinations\r\n",
    "https://www.khanacademy.org/math/statistics-probability/counting-permutations-and-combinations"
   ],
   "metadata": {}
  },
  {
   "cell_type": "markdown",
   "source": [
    "### Tasca S07_T01: Tasca dades, probabilitats i estadístiques\r\n",
    "C:\\Users\\yeray\\Notebooks\\Ejercicios\\S07_T01"
   ],
   "metadata": {}
  },
  {
   "cell_type": "markdown",
   "source": [
    "## Sprint 8. Hypothesis Testing"
   ],
   "metadata": {}
  },
  {
   "cell_type": "markdown",
   "source": [
    "Durada : 4 dies  \r\n",
    "\r\n",
    "Important familiaritzar-se amb els fonaments de Hypothesis Testing, principal objectiu de les estadístiques.\r\n",
    "\r\n",
    "Objectiu general: \r\n",
    "\r\n",
    "- Aprendre els fonaments principals estadístics del Hyphotesis testing  \r\n",
    "\r\n",
    "Objectiu específic: \r\n",
    "\r\n",
    "- Conèixer i practicar amb el ull Hyphotesis, Alternative Hyphotesis, P-value i Alpha  "
   ],
   "metadata": {}
  },
  {
   "cell_type": "markdown",
   "source": [],
   "metadata": {}
  },
  {
   "cell_type": "markdown",
   "source": [],
   "metadata": {}
  },
  {
   "cell_type": "markdown",
   "source": [],
   "metadata": {}
  },
  {
   "cell_type": "markdown",
   "source": [],
   "metadata": {}
  },
  {
   "cell_type": "markdown",
   "source": [],
   "metadata": {}
  },
  {
   "cell_type": "markdown",
   "source": [],
   "metadata": {}
  },
  {
   "cell_type": "markdown",
   "source": [],
   "metadata": {}
  },
  {
   "cell_type": "markdown",
   "source": [],
   "metadata": {}
  },
  {
   "cell_type": "markdown",
   "source": [],
   "metadata": {}
  },
  {
   "cell_type": "markdown",
   "source": [],
   "metadata": {}
  }
 ],
 "metadata": {
  "orig_nbformat": 4,
  "language_info": {
   "name": "python"
  }
 },
 "nbformat": 4,
 "nbformat_minor": 2
}