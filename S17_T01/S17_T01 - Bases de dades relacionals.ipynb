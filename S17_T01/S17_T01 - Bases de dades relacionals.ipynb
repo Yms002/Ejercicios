{
 "cells": [
  {
   "cell_type": "markdown",
   "metadata": {},
   "source": [
    "# S17 T01: Bases de dades relacionals"
   ]
  },
  {
   "cell_type": "markdown",
   "metadata": {},
   "source": [
    "## Nivell 1"
   ]
  },
  {
   "cell_type": "markdown",
   "metadata": {},
   "source": [
    "### Exercici 1\n",
    "Crea una base relacional d’exemple utilitzant un document de text o a mà. Dissenya-la perquè contingui les següents taules, i estableix les relacions que consideris necessàries entre elles:\n",
    "-\tTaula de compres (transaccions)\n",
    "-\tTaula d’establiments\n",
    "-\tTaula de treballadors\n",
    "-\tTaula de clients\n",
    "-\tTaula de productes\n",
    "-\tTaula de tipus de productes\n",
    "\n",
    "Defineix les propietats de les relacions (1:1, 1:n, n:n), i crea algunes de les variables que podrien contenir, per exemple:\n",
    "\n",
    "Taula d’establiments\n",
    "-\tIDestabliment (unique key)\n",
    "-\tNom\n",
    "-\tLocalització\n",
    "-\tSuperfície"
   ]
  },
  {
   "cell_type": "markdown",
   "metadata": {},
   "source": [
    "#### Se ha creado el Diagrama ER indicando:\n",
    "- **entidades** (rectangulo)\n",
    "- **atributos** de cada entidad (elipses)\n",
    "- **clave primaria** de cada entidad (atributo subrayado)\n",
    "- **interrelaciones** entre entidades (rombos)\n",
    "- **conectividad** o **cardinalidad** de las interrelaciones [(1:1), (1:n), (n,n); y flecha simple = 1, o flecha doble = n]\n",
    "\n",
    "<img src=\"Diagrama ER (a mano)_001.png\" alt = \"Diagrama ER a mano alzada\" class = \"center\">"
   ]
  },
  {
   "cell_type": "markdown",
   "metadata": {},
   "source": [
    "## Nivell 2"
   ]
  },
  {
   "cell_type": "markdown",
   "metadata": {},
   "source": [
    "### Exercici 2\n",
    "Utilitza un programa de creació de diagrames entitat-relació com http://dia-installer.de per crear el diagrama."
   ]
  },
  {
   "cell_type": "markdown",
   "metadata": {},
   "source": [
    "Se ha utilizado el software de GitMind (https://gitmind.com/) para crear el diagrama:\n",
    "\n",
    "<img src=\"Diagrama ER.png\" alt = \"Diagrama ER con GitMind\" class = \"center\">"
   ]
  },
  {
   "cell_type": "markdown",
   "metadata": {},
   "source": [
    "## Nivell 3"
   ]
  },
  {
   "cell_type": "markdown",
   "metadata": {},
   "source": [
    "### Exercici 3\n",
    "Utilitza el Workbench de MySQL per crear un model relacional. "
   ]
  },
  {
   "cell_type": "markdown",
   "metadata": {},
   "source": [
    "Después de instalar MySQL Workbench desde https://dev.mysql.com/downloads/workbench/ :\n",
    "\n",
    "<img src=\"Diagrama ER MySQL Workbench.png\" alt = \"Diagrama ER con GitMind\" class = \"center\">\n"
   ]
  }
 ],
 "metadata": {
  "language_info": {
   "name": "python"
  },
  "orig_nbformat": 4
 },
 "nbformat": 4,
 "nbformat_minor": 2
}
