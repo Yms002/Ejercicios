{
 "cells": [
  {
   "cell_type": "markdown",
   "metadata": {},
   "source": [
    "# Tasca 5: Exploració de les dades"
   ]
  },
  {
   "cell_type": "markdown",
   "metadata": {},
   "source": [
    "## - Exercici 1\n",
    "Descarrega el data set Airlines Delay: Airline on-time statistics and delay causes i carrega’l a un pandas Dataframe. Explora les dades que conté, i queda’t únicament amb les columnes que consideris rellevants."
   ]
  },
  {
   "cell_type": "code",
   "execution_count": 1,
   "metadata": {
    "ExecuteTime": {
     "end_time": "2021-06-03T10:33:12.422045Z",
     "start_time": "2021-06-03T10:33:08.341043Z"
    },
    "scrolled": true
   },
   "outputs": [
    {
     "data": {
      "text/html": [
       "<div>\n",
       "<style scoped>\n",
       "    .dataframe tbody tr th:only-of-type {\n",
       "        vertical-align: middle;\n",
       "    }\n",
       "\n",
       "    .dataframe tbody tr th {\n",
       "        vertical-align: top;\n",
       "    }\n",
       "\n",
       "    .dataframe thead th {\n",
       "        text-align: right;\n",
       "    }\n",
       "</style>\n",
       "<table border=\"1\" class=\"dataframe\">\n",
       "  <thead>\n",
       "    <tr style=\"text-align: right;\">\n",
       "      <th></th>\n",
       "      <th>Unnamed: 0</th>\n",
       "      <th>Year</th>\n",
       "      <th>Month</th>\n",
       "      <th>DayofMonth</th>\n",
       "      <th>DayOfWeek</th>\n",
       "      <th>DepTime</th>\n",
       "      <th>CRSDepTime</th>\n",
       "      <th>ArrTime</th>\n",
       "      <th>CRSArrTime</th>\n",
       "      <th>UniqueCarrier</th>\n",
       "      <th>...</th>\n",
       "      <th>TaxiIn</th>\n",
       "      <th>TaxiOut</th>\n",
       "      <th>Cancelled</th>\n",
       "      <th>CancellationCode</th>\n",
       "      <th>Diverted</th>\n",
       "      <th>CarrierDelay</th>\n",
       "      <th>WeatherDelay</th>\n",
       "      <th>NASDelay</th>\n",
       "      <th>SecurityDelay</th>\n",
       "      <th>LateAircraftDelay</th>\n",
       "    </tr>\n",
       "  </thead>\n",
       "  <tbody>\n",
       "    <tr>\n",
       "      <th>0</th>\n",
       "      <td>0</td>\n",
       "      <td>2008</td>\n",
       "      <td>1</td>\n",
       "      <td>3</td>\n",
       "      <td>4</td>\n",
       "      <td>2003.0</td>\n",
       "      <td>1955</td>\n",
       "      <td>2211.0</td>\n",
       "      <td>2225</td>\n",
       "      <td>WN</td>\n",
       "      <td>...</td>\n",
       "      <td>4.0</td>\n",
       "      <td>8.0</td>\n",
       "      <td>0</td>\n",
       "      <td>N</td>\n",
       "      <td>0</td>\n",
       "      <td>NaN</td>\n",
       "      <td>NaN</td>\n",
       "      <td>NaN</td>\n",
       "      <td>NaN</td>\n",
       "      <td>NaN</td>\n",
       "    </tr>\n",
       "    <tr>\n",
       "      <th>1</th>\n",
       "      <td>1</td>\n",
       "      <td>2008</td>\n",
       "      <td>1</td>\n",
       "      <td>3</td>\n",
       "      <td>4</td>\n",
       "      <td>754.0</td>\n",
       "      <td>735</td>\n",
       "      <td>1002.0</td>\n",
       "      <td>1000</td>\n",
       "      <td>WN</td>\n",
       "      <td>...</td>\n",
       "      <td>5.0</td>\n",
       "      <td>10.0</td>\n",
       "      <td>0</td>\n",
       "      <td>N</td>\n",
       "      <td>0</td>\n",
       "      <td>NaN</td>\n",
       "      <td>NaN</td>\n",
       "      <td>NaN</td>\n",
       "      <td>NaN</td>\n",
       "      <td>NaN</td>\n",
       "    </tr>\n",
       "    <tr>\n",
       "      <th>2</th>\n",
       "      <td>2</td>\n",
       "      <td>2008</td>\n",
       "      <td>1</td>\n",
       "      <td>3</td>\n",
       "      <td>4</td>\n",
       "      <td>628.0</td>\n",
       "      <td>620</td>\n",
       "      <td>804.0</td>\n",
       "      <td>750</td>\n",
       "      <td>WN</td>\n",
       "      <td>...</td>\n",
       "      <td>3.0</td>\n",
       "      <td>17.0</td>\n",
       "      <td>0</td>\n",
       "      <td>N</td>\n",
       "      <td>0</td>\n",
       "      <td>NaN</td>\n",
       "      <td>NaN</td>\n",
       "      <td>NaN</td>\n",
       "      <td>NaN</td>\n",
       "      <td>NaN</td>\n",
       "    </tr>\n",
       "    <tr>\n",
       "      <th>3</th>\n",
       "      <td>4</td>\n",
       "      <td>2008</td>\n",
       "      <td>1</td>\n",
       "      <td>3</td>\n",
       "      <td>4</td>\n",
       "      <td>1829.0</td>\n",
       "      <td>1755</td>\n",
       "      <td>1959.0</td>\n",
       "      <td>1925</td>\n",
       "      <td>WN</td>\n",
       "      <td>...</td>\n",
       "      <td>3.0</td>\n",
       "      <td>10.0</td>\n",
       "      <td>0</td>\n",
       "      <td>N</td>\n",
       "      <td>0</td>\n",
       "      <td>2.0</td>\n",
       "      <td>0.0</td>\n",
       "      <td>0.0</td>\n",
       "      <td>0.0</td>\n",
       "      <td>32.0</td>\n",
       "    </tr>\n",
       "    <tr>\n",
       "      <th>4</th>\n",
       "      <td>5</td>\n",
       "      <td>2008</td>\n",
       "      <td>1</td>\n",
       "      <td>3</td>\n",
       "      <td>4</td>\n",
       "      <td>1940.0</td>\n",
       "      <td>1915</td>\n",
       "      <td>2121.0</td>\n",
       "      <td>2110</td>\n",
       "      <td>WN</td>\n",
       "      <td>...</td>\n",
       "      <td>4.0</td>\n",
       "      <td>10.0</td>\n",
       "      <td>0</td>\n",
       "      <td>N</td>\n",
       "      <td>0</td>\n",
       "      <td>NaN</td>\n",
       "      <td>NaN</td>\n",
       "      <td>NaN</td>\n",
       "      <td>NaN</td>\n",
       "      <td>NaN</td>\n",
       "    </tr>\n",
       "    <tr>\n",
       "      <th>...</th>\n",
       "      <td>...</td>\n",
       "      <td>...</td>\n",
       "      <td>...</td>\n",
       "      <td>...</td>\n",
       "      <td>...</td>\n",
       "      <td>...</td>\n",
       "      <td>...</td>\n",
       "      <td>...</td>\n",
       "      <td>...</td>\n",
       "      <td>...</td>\n",
       "      <td>...</td>\n",
       "      <td>...</td>\n",
       "      <td>...</td>\n",
       "      <td>...</td>\n",
       "      <td>...</td>\n",
       "      <td>...</td>\n",
       "      <td>...</td>\n",
       "      <td>...</td>\n",
       "      <td>...</td>\n",
       "      <td>...</td>\n",
       "      <td>...</td>\n",
       "    </tr>\n",
       "    <tr>\n",
       "      <th>1936753</th>\n",
       "      <td>7009710</td>\n",
       "      <td>2008</td>\n",
       "      <td>12</td>\n",
       "      <td>13</td>\n",
       "      <td>6</td>\n",
       "      <td>1250.0</td>\n",
       "      <td>1220</td>\n",
       "      <td>1617.0</td>\n",
       "      <td>1552</td>\n",
       "      <td>DL</td>\n",
       "      <td>...</td>\n",
       "      <td>9.0</td>\n",
       "      <td>18.0</td>\n",
       "      <td>0</td>\n",
       "      <td>N</td>\n",
       "      <td>0</td>\n",
       "      <td>3.0</td>\n",
       "      <td>0.0</td>\n",
       "      <td>0.0</td>\n",
       "      <td>0.0</td>\n",
       "      <td>22.0</td>\n",
       "    </tr>\n",
       "    <tr>\n",
       "      <th>1936754</th>\n",
       "      <td>7009717</td>\n",
       "      <td>2008</td>\n",
       "      <td>12</td>\n",
       "      <td>13</td>\n",
       "      <td>6</td>\n",
       "      <td>657.0</td>\n",
       "      <td>600</td>\n",
       "      <td>904.0</td>\n",
       "      <td>749</td>\n",
       "      <td>DL</td>\n",
       "      <td>...</td>\n",
       "      <td>15.0</td>\n",
       "      <td>34.0</td>\n",
       "      <td>0</td>\n",
       "      <td>N</td>\n",
       "      <td>0</td>\n",
       "      <td>0.0</td>\n",
       "      <td>57.0</td>\n",
       "      <td>18.0</td>\n",
       "      <td>0.0</td>\n",
       "      <td>0.0</td>\n",
       "    </tr>\n",
       "    <tr>\n",
       "      <th>1936755</th>\n",
       "      <td>7009718</td>\n",
       "      <td>2008</td>\n",
       "      <td>12</td>\n",
       "      <td>13</td>\n",
       "      <td>6</td>\n",
       "      <td>1007.0</td>\n",
       "      <td>847</td>\n",
       "      <td>1149.0</td>\n",
       "      <td>1010</td>\n",
       "      <td>DL</td>\n",
       "      <td>...</td>\n",
       "      <td>8.0</td>\n",
       "      <td>32.0</td>\n",
       "      <td>0</td>\n",
       "      <td>N</td>\n",
       "      <td>0</td>\n",
       "      <td>1.0</td>\n",
       "      <td>0.0</td>\n",
       "      <td>19.0</td>\n",
       "      <td>0.0</td>\n",
       "      <td>79.0</td>\n",
       "    </tr>\n",
       "    <tr>\n",
       "      <th>1936756</th>\n",
       "      <td>7009726</td>\n",
       "      <td>2008</td>\n",
       "      <td>12</td>\n",
       "      <td>13</td>\n",
       "      <td>6</td>\n",
       "      <td>1251.0</td>\n",
       "      <td>1240</td>\n",
       "      <td>1446.0</td>\n",
       "      <td>1437</td>\n",
       "      <td>DL</td>\n",
       "      <td>...</td>\n",
       "      <td>13.0</td>\n",
       "      <td>13.0</td>\n",
       "      <td>0</td>\n",
       "      <td>N</td>\n",
       "      <td>0</td>\n",
       "      <td>NaN</td>\n",
       "      <td>NaN</td>\n",
       "      <td>NaN</td>\n",
       "      <td>NaN</td>\n",
       "      <td>NaN</td>\n",
       "    </tr>\n",
       "    <tr>\n",
       "      <th>1936757</th>\n",
       "      <td>7009727</td>\n",
       "      <td>2008</td>\n",
       "      <td>12</td>\n",
       "      <td>13</td>\n",
       "      <td>6</td>\n",
       "      <td>1110.0</td>\n",
       "      <td>1103</td>\n",
       "      <td>1413.0</td>\n",
       "      <td>1418</td>\n",
       "      <td>DL</td>\n",
       "      <td>...</td>\n",
       "      <td>8.0</td>\n",
       "      <td>11.0</td>\n",
       "      <td>0</td>\n",
       "      <td>N</td>\n",
       "      <td>0</td>\n",
       "      <td>NaN</td>\n",
       "      <td>NaN</td>\n",
       "      <td>NaN</td>\n",
       "      <td>NaN</td>\n",
       "      <td>NaN</td>\n",
       "    </tr>\n",
       "  </tbody>\n",
       "</table>\n",
       "<p>1936758 rows × 30 columns</p>\n",
       "</div>"
      ],
      "text/plain": [
       "         Unnamed: 0  Year  Month  DayofMonth  DayOfWeek  DepTime  CRSDepTime  \\\n",
       "0                 0  2008      1           3          4   2003.0        1955   \n",
       "1                 1  2008      1           3          4    754.0         735   \n",
       "2                 2  2008      1           3          4    628.0         620   \n",
       "3                 4  2008      1           3          4   1829.0        1755   \n",
       "4                 5  2008      1           3          4   1940.0        1915   \n",
       "...             ...   ...    ...         ...        ...      ...         ...   \n",
       "1936753     7009710  2008     12          13          6   1250.0        1220   \n",
       "1936754     7009717  2008     12          13          6    657.0         600   \n",
       "1936755     7009718  2008     12          13          6   1007.0         847   \n",
       "1936756     7009726  2008     12          13          6   1251.0        1240   \n",
       "1936757     7009727  2008     12          13          6   1110.0        1103   \n",
       "\n",
       "         ArrTime  CRSArrTime UniqueCarrier  ...  TaxiIn TaxiOut  Cancelled  \\\n",
       "0         2211.0        2225            WN  ...     4.0     8.0          0   \n",
       "1         1002.0        1000            WN  ...     5.0    10.0          0   \n",
       "2          804.0         750            WN  ...     3.0    17.0          0   \n",
       "3         1959.0        1925            WN  ...     3.0    10.0          0   \n",
       "4         2121.0        2110            WN  ...     4.0    10.0          0   \n",
       "...          ...         ...           ...  ...     ...     ...        ...   \n",
       "1936753   1617.0        1552            DL  ...     9.0    18.0          0   \n",
       "1936754    904.0         749            DL  ...    15.0    34.0          0   \n",
       "1936755   1149.0        1010            DL  ...     8.0    32.0          0   \n",
       "1936756   1446.0        1437            DL  ...    13.0    13.0          0   \n",
       "1936757   1413.0        1418            DL  ...     8.0    11.0          0   \n",
       "\n",
       "         CancellationCode  Diverted  CarrierDelay  WeatherDelay NASDelay  \\\n",
       "0                       N         0           NaN           NaN      NaN   \n",
       "1                       N         0           NaN           NaN      NaN   \n",
       "2                       N         0           NaN           NaN      NaN   \n",
       "3                       N         0           2.0           0.0      0.0   \n",
       "4                       N         0           NaN           NaN      NaN   \n",
       "...                   ...       ...           ...           ...      ...   \n",
       "1936753                 N         0           3.0           0.0      0.0   \n",
       "1936754                 N         0           0.0          57.0     18.0   \n",
       "1936755                 N         0           1.0           0.0     19.0   \n",
       "1936756                 N         0           NaN           NaN      NaN   \n",
       "1936757                 N         0           NaN           NaN      NaN   \n",
       "\n",
       "        SecurityDelay  LateAircraftDelay  \n",
       "0                 NaN                NaN  \n",
       "1                 NaN                NaN  \n",
       "2                 NaN                NaN  \n",
       "3                 0.0               32.0  \n",
       "4                 NaN                NaN  \n",
       "...               ...                ...  \n",
       "1936753           0.0               22.0  \n",
       "1936754           0.0                0.0  \n",
       "1936755           0.0               79.0  \n",
       "1936756           NaN                NaN  \n",
       "1936757           NaN                NaN  \n",
       "\n",
       "[1936758 rows x 30 columns]"
      ]
     },
     "execution_count": 1,
     "metadata": {},
     "output_type": "execute_result"
    }
   ],
   "source": [
    "# importem les llibreries necesàries:\n",
    "import pandas as pd\n",
    "import numpy as np\n",
    "import matplotlib.pyplot as plt\n",
    "#link amb la descripció de les dades: https://docs.microsoft.com/en-us/machine-learning-server/r-reference/revoscaler/airlinedata87to08\n",
    "\n",
    "\n",
    "plt.rcParams.update({'font.size': 16, 'figure.figsize': (10, 8)}) # set font and plot size to be larger\n",
    "\n",
    "# un cop descarregat el fitxer, el carreguem a un DataFrame:\n",
    "delay_df = pd.read_csv(r'..\\DB\\DelayedFlights.csv')\n",
    "\n",
    "# imprimim la taula (les 5 primeres i les 5 últimes files):\n",
    "delay_df\n",
    "# podem utilitzar delay_df.head() per mostrar les 5 primeres files, o delay_df.tail() per mostrar les 5 últimes."
   ]
  },
  {
   "cell_type": "markdown",
   "metadata": {},
   "source": [
    "Descripció de les columnes:\n",
    "1. Year 2008\n",
    "2. Month 1-12\n",
    "3. DayofMonth 1-31\n",
    "4. DayOfWeek 1 (Monday) - 7 (Sunday)\n",
    "5. DepTime actual departure time (local, hhmm)\n",
    "6. CRSDepTime scheduled departure time (local, hhmm)\n",
    "7. ArrTime actual arrival time (local, hhmm)\n",
    "8. CRSArrTime scheduled arrival time (local, hhmm)\n",
    "9. UniqueCarrier unique carrier code\n",
    "10. FlightNum flight number\n",
    "11. TailNum plane tail number: aircraft registration, unique aircraft identifier\n",
    "12. ActualElapsedTime in minutes\n",
    "13. CRSElapsedTime in minutes\n",
    "14. AirTime in minutes\n",
    "15. ArrDelay arrival delay, in minutes: A flight is counted as \"on time\" if it operated less than 15 minutes later the scheduled time shown in the carriers' Computerized Reservations Systems (CRS).\n",
    "16. DepDelay departure delay, in minutes\n",
    "17. Origin origin IATA airport code\n",
    "18. Dest destination IATA airport code\n",
    "19. Distance in miles\n",
    "20. TaxiIn taxi in time, in minutes\n",
    "21. TaxiOut taxi out time in minutes\n",
    "22. Cancelled *was the flight cancelled\n",
    "23. CancellationCode reason for cancellation (A = carrier, B = weather, C = NAS, D = security)\n",
    "24. Diverted 1 = yes, 0 = no\n",
    "25. CarrierDelay in minutes: Carrier delay is within the control of the air carrier. Examples of occurrences that may determine carrier delay are: aircraft cleaning, aircraft damage, awaiting the arrival of connecting passengers or crew, baggage, bird strike, cargo loading, catering, computer, outage-carrier equipment, crew legality (pilot or attendant rest), damage by hazardous goods, engineering inspection, fueling, handling disabled passengers, late crew, lavatory servicing, maintenance, oversales, potable water servicing, removal of unruly passenger, slow boarding or seating, stowing carry-on baggage, weight and balance delays.\n",
    "26. WeatherDelay in minutes: Weather delay is caused by extreme or hazardous weather conditions that are forecasted or manifest themselves on point of departure, enroute, or on point of arrival.\n",
    "27. NASDelay in minutes: Delay that is within the control of the National Airspace System (NAS) may include: non-extreme weather conditions, airport operations, heavy traffic volume, air traffic control, etc.\n",
    "28. SecurityDelay in minutes: Security delay is caused by evacuation of a terminal or concourse, re-boarding of aircraft because of security breach, inoperative screening equipment and/or long lines in excess of 29 minutes at screening areas.\n",
    "29. LateAircraftDelay in minutes: Arrival delay at an airport due to the late arrival of the same aircraft at a previous airport. The ripple effect of an earlier delay at downstream airports is referred to as delay propagation."
   ]
  },
  {
   "cell_type": "code",
   "execution_count": 104,
   "metadata": {
    "ExecuteTime": {
     "end_time": "2021-05-13T18:09:50.612178Z",
     "start_time": "2021-05-13T18:09:50.608165Z"
    },
    "run_control": {
     "marked": false
    }
   },
   "outputs": [
    {
     "data": {
      "text/plain": [
       "(1936758, 30)"
      ]
     },
     "execution_count": 104,
     "metadata": {},
     "output_type": "execute_result"
    }
   ],
   "source": [
    "# Utilitzem el mètode shape per veure les dimensions de la taula \n",
    "delay_df.shape"
   ]
  },
  {
   "cell_type": "code",
   "execution_count": 105,
   "metadata": {
    "ExecuteTime": {
     "end_time": "2021-05-13T18:09:50.739115Z",
     "start_time": "2021-05-13T18:09:50.614166Z"
    },
    "scrolled": true
   },
   "outputs": [
    {
     "name": "stdout",
     "output_type": "stream",
     "text": [
      "<class 'pandas.core.frame.DataFrame'>\n",
      "RangeIndex: 1936758 entries, 0 to 1936757\n",
      "Data columns (total 30 columns):\n",
      " #   Column             Dtype  \n",
      "---  ------             -----  \n",
      " 0   Unnamed: 0         int64  \n",
      " 1   Year               int64  \n",
      " 2   Month              int64  \n",
      " 3   DayofMonth         int64  \n",
      " 4   DayOfWeek          int64  \n",
      " 5   DepTime            float64\n",
      " 6   CRSDepTime         int64  \n",
      " 7   ArrTime            float64\n",
      " 8   CRSArrTime         int64  \n",
      " 9   UniqueCarrier      object \n",
      " 10  FlightNum          int64  \n",
      " 11  TailNum            object \n",
      " 12  ActualElapsedTime  float64\n",
      " 13  CRSElapsedTime     float64\n",
      " 14  AirTime            float64\n",
      " 15  ArrDelay           float64\n",
      " 16  DepDelay           float64\n",
      " 17  Origin             object \n",
      " 18  Dest               object \n",
      " 19  Distance           int64  \n",
      " 20  TaxiIn             float64\n",
      " 21  TaxiOut            float64\n",
      " 22  Cancelled          int64  \n",
      " 23  CancellationCode   object \n",
      " 24  Diverted           int64  \n",
      " 25  CarrierDelay       float64\n",
      " 26  WeatherDelay       float64\n",
      " 27  NASDelay           float64\n",
      " 28  SecurityDelay      float64\n",
      " 29  LateAircraftDelay  float64\n",
      "dtypes: float64(14), int64(11), object(5)\n",
      "memory usage: 443.3+ MB\n"
     ]
    }
   ],
   "source": [
    "# i el mètode info() per extreure un resum del que hi ha a la taula:\n",
    "delay_df.info()"
   ]
  },
  {
   "cell_type": "code",
   "execution_count": 106,
   "metadata": {
    "ExecuteTime": {
     "end_time": "2021-05-13T18:09:50.840055Z",
     "start_time": "2021-05-13T18:09:50.741113Z"
    }
   },
   "outputs": [
    {
     "data": {
      "text/plain": [
       "Index(['Unnamed: 0', 'Year', 'Month', 'DayofMonth', 'DayOfWeek', 'DepTime',\n",
       "       'CRSDepTime', 'ArrTime', 'CRSArrTime', 'UniqueCarrier', 'FlightNum',\n",
       "       'TailNum', 'ActualElapsedTime', 'CRSElapsedTime', 'AirTime', 'ArrDelay',\n",
       "       'DepDelay', 'Origin', 'Dest', 'Distance', 'TaxiIn', 'TaxiOut',\n",
       "       'Cancelled', 'CancellationCode', 'Diverted', 'CarrierDelay',\n",
       "       'WeatherDelay', 'NASDelay', 'SecurityDelay', 'LateAircraftDelay'],\n",
       "      dtype='object')"
      ]
     },
     "execution_count": 106,
     "metadata": {},
     "output_type": "execute_result"
    }
   ],
   "source": [
    "# podem utilitzar també el mètode .columns per imprimir els noms de les columnes\n",
    "delay_df.columns"
   ]
  },
  {
   "cell_type": "code",
   "execution_count": 107,
   "metadata": {
    "ExecuteTime": {
     "end_time": "2021-05-13T18:09:50.961008Z",
     "start_time": "2021-05-13T18:09:50.842054Z"
    }
   },
   "outputs": [
    {
     "data": {
      "text/plain": [
       "Index(['unnamed: 0', 'year', 'month', 'dayofmonth', 'dayofweek', 'deptime',\n",
       "       'crsdeptime', 'arrtime', 'crsarrtime', 'uniquecarrier', 'flightnum',\n",
       "       'tailnum', 'actualelapsedtime', 'crselapsedtime', 'airtime', 'arrdelay',\n",
       "       'depdelay', 'origin', 'dest', 'distance', 'taxiin', 'taxiout',\n",
       "       'cancelled', 'cancellationcode', 'diverted', 'carrierdelay',\n",
       "       'weatherdelay', 'nasdelay', 'securitydelay', 'lateaircraftdelay'],\n",
       "      dtype='object')"
      ]
     },
     "execution_count": 107,
     "metadata": {},
     "output_type": "execute_result"
    }
   ],
   "source": [
    "# per no cometre errors amb les majúscules, convertim els noms de les columnes a minuscules tot:\n",
    "delay_df.columns = [columns.lower() for columns in delay_df]\n",
    "delay_df.columns"
   ]
  },
  {
   "cell_type": "code",
   "execution_count": 108,
   "metadata": {
    "ExecuteTime": {
     "end_time": "2021-05-13T18:09:53.165618Z",
     "start_time": "2021-05-13T18:09:50.967007Z"
    },
    "run_control": {
     "marked": false
    },
    "scrolled": false
   },
   "outputs": [
    {
     "data": {
      "text/html": [
       "<div>\n",
       "<style scoped>\n",
       "    .dataframe tbody tr th:only-of-type {\n",
       "        vertical-align: middle;\n",
       "    }\n",
       "\n",
       "    .dataframe tbody tr th {\n",
       "        vertical-align: top;\n",
       "    }\n",
       "\n",
       "    .dataframe thead th {\n",
       "        text-align: right;\n",
       "    }\n",
       "</style>\n",
       "<table border=\"1\" class=\"dataframe\">\n",
       "  <thead>\n",
       "    <tr style=\"text-align: right;\">\n",
       "      <th></th>\n",
       "      <th>unnamed: 0</th>\n",
       "      <th>year</th>\n",
       "      <th>month</th>\n",
       "      <th>dayofmonth</th>\n",
       "      <th>dayofweek</th>\n",
       "      <th>deptime</th>\n",
       "      <th>crsdeptime</th>\n",
       "      <th>arrtime</th>\n",
       "      <th>crsarrtime</th>\n",
       "      <th>flightnum</th>\n",
       "      <th>...</th>\n",
       "      <th>distance</th>\n",
       "      <th>taxiin</th>\n",
       "      <th>taxiout</th>\n",
       "      <th>cancelled</th>\n",
       "      <th>diverted</th>\n",
       "      <th>carrierdelay</th>\n",
       "      <th>weatherdelay</th>\n",
       "      <th>nasdelay</th>\n",
       "      <th>securitydelay</th>\n",
       "      <th>lateaircraftdelay</th>\n",
       "    </tr>\n",
       "  </thead>\n",
       "  <tbody>\n",
       "    <tr>\n",
       "      <th>count</th>\n",
       "      <td>1936758.000</td>\n",
       "      <td>1936758.0</td>\n",
       "      <td>1936758.000</td>\n",
       "      <td>1936758.000</td>\n",
       "      <td>1936758.000</td>\n",
       "      <td>1936758.000</td>\n",
       "      <td>1936758.000</td>\n",
       "      <td>1929648.000</td>\n",
       "      <td>1936758.000</td>\n",
       "      <td>1936758.000</td>\n",
       "      <td>...</td>\n",
       "      <td>1936758.000</td>\n",
       "      <td>1929648.000</td>\n",
       "      <td>1936303.000</td>\n",
       "      <td>1936758.000</td>\n",
       "      <td>1936758.000</td>\n",
       "      <td>1247488.000</td>\n",
       "      <td>1247488.000</td>\n",
       "      <td>1247488.000</td>\n",
       "      <td>1247488.000</td>\n",
       "      <td>1247488.000</td>\n",
       "    </tr>\n",
       "    <tr>\n",
       "      <th>mean</th>\n",
       "      <td>3341651.151</td>\n",
       "      <td>2008.0</td>\n",
       "      <td>6.111</td>\n",
       "      <td>15.753</td>\n",
       "      <td>3.985</td>\n",
       "      <td>1518.534</td>\n",
       "      <td>1467.473</td>\n",
       "      <td>1610.141</td>\n",
       "      <td>1634.225</td>\n",
       "      <td>2184.263</td>\n",
       "      <td>...</td>\n",
       "      <td>765.686</td>\n",
       "      <td>6.813</td>\n",
       "      <td>18.232</td>\n",
       "      <td>0.000</td>\n",
       "      <td>0.004</td>\n",
       "      <td>19.179</td>\n",
       "      <td>3.704</td>\n",
       "      <td>15.022</td>\n",
       "      <td>0.090</td>\n",
       "      <td>25.296</td>\n",
       "    </tr>\n",
       "    <tr>\n",
       "      <th>std</th>\n",
       "      <td>2066064.958</td>\n",
       "      <td>0.0</td>\n",
       "      <td>3.483</td>\n",
       "      <td>8.776</td>\n",
       "      <td>1.996</td>\n",
       "      <td>450.485</td>\n",
       "      <td>424.767</td>\n",
       "      <td>548.178</td>\n",
       "      <td>464.635</td>\n",
       "      <td>1944.702</td>\n",
       "      <td>...</td>\n",
       "      <td>574.480</td>\n",
       "      <td>5.274</td>\n",
       "      <td>14.339</td>\n",
       "      <td>0.018</td>\n",
       "      <td>0.063</td>\n",
       "      <td>43.546</td>\n",
       "      <td>21.493</td>\n",
       "      <td>33.833</td>\n",
       "      <td>2.023</td>\n",
       "      <td>42.055</td>\n",
       "    </tr>\n",
       "    <tr>\n",
       "      <th>min</th>\n",
       "      <td>0.000</td>\n",
       "      <td>2008.0</td>\n",
       "      <td>1.000</td>\n",
       "      <td>1.000</td>\n",
       "      <td>1.000</td>\n",
       "      <td>1.000</td>\n",
       "      <td>0.000</td>\n",
       "      <td>1.000</td>\n",
       "      <td>0.000</td>\n",
       "      <td>1.000</td>\n",
       "      <td>...</td>\n",
       "      <td>11.000</td>\n",
       "      <td>0.000</td>\n",
       "      <td>0.000</td>\n",
       "      <td>0.000</td>\n",
       "      <td>0.000</td>\n",
       "      <td>0.000</td>\n",
       "      <td>0.000</td>\n",
       "      <td>0.000</td>\n",
       "      <td>0.000</td>\n",
       "      <td>0.000</td>\n",
       "    </tr>\n",
       "    <tr>\n",
       "      <th>25%</th>\n",
       "      <td>1517452.500</td>\n",
       "      <td>2008.0</td>\n",
       "      <td>3.000</td>\n",
       "      <td>8.000</td>\n",
       "      <td>2.000</td>\n",
       "      <td>1203.000</td>\n",
       "      <td>1135.000</td>\n",
       "      <td>1316.000</td>\n",
       "      <td>1325.000</td>\n",
       "      <td>610.000</td>\n",
       "      <td>...</td>\n",
       "      <td>338.000</td>\n",
       "      <td>4.000</td>\n",
       "      <td>10.000</td>\n",
       "      <td>0.000</td>\n",
       "      <td>0.000</td>\n",
       "      <td>0.000</td>\n",
       "      <td>0.000</td>\n",
       "      <td>0.000</td>\n",
       "      <td>0.000</td>\n",
       "      <td>0.000</td>\n",
       "    </tr>\n",
       "    <tr>\n",
       "      <th>50%</th>\n",
       "      <td>3242558.000</td>\n",
       "      <td>2008.0</td>\n",
       "      <td>6.000</td>\n",
       "      <td>16.000</td>\n",
       "      <td>4.000</td>\n",
       "      <td>1545.000</td>\n",
       "      <td>1510.000</td>\n",
       "      <td>1715.000</td>\n",
       "      <td>1705.000</td>\n",
       "      <td>1543.000</td>\n",
       "      <td>...</td>\n",
       "      <td>606.000</td>\n",
       "      <td>6.000</td>\n",
       "      <td>14.000</td>\n",
       "      <td>0.000</td>\n",
       "      <td>0.000</td>\n",
       "      <td>2.000</td>\n",
       "      <td>0.000</td>\n",
       "      <td>2.000</td>\n",
       "      <td>0.000</td>\n",
       "      <td>8.000</td>\n",
       "    </tr>\n",
       "    <tr>\n",
       "      <th>75%</th>\n",
       "      <td>4972466.750</td>\n",
       "      <td>2008.0</td>\n",
       "      <td>9.000</td>\n",
       "      <td>23.000</td>\n",
       "      <td>6.000</td>\n",
       "      <td>1900.000</td>\n",
       "      <td>1815.000</td>\n",
       "      <td>2030.000</td>\n",
       "      <td>2014.000</td>\n",
       "      <td>3422.000</td>\n",
       "      <td>...</td>\n",
       "      <td>998.000</td>\n",
       "      <td>8.000</td>\n",
       "      <td>21.000</td>\n",
       "      <td>0.000</td>\n",
       "      <td>0.000</td>\n",
       "      <td>21.000</td>\n",
       "      <td>0.000</td>\n",
       "      <td>15.000</td>\n",
       "      <td>0.000</td>\n",
       "      <td>33.000</td>\n",
       "    </tr>\n",
       "    <tr>\n",
       "      <th>max</th>\n",
       "      <td>7009727.000</td>\n",
       "      <td>2008.0</td>\n",
       "      <td>12.000</td>\n",
       "      <td>31.000</td>\n",
       "      <td>7.000</td>\n",
       "      <td>2400.000</td>\n",
       "      <td>2359.000</td>\n",
       "      <td>2400.000</td>\n",
       "      <td>2400.000</td>\n",
       "      <td>9742.000</td>\n",
       "      <td>...</td>\n",
       "      <td>4962.000</td>\n",
       "      <td>240.000</td>\n",
       "      <td>422.000</td>\n",
       "      <td>1.000</td>\n",
       "      <td>1.000</td>\n",
       "      <td>2436.000</td>\n",
       "      <td>1352.000</td>\n",
       "      <td>1357.000</td>\n",
       "      <td>392.000</td>\n",
       "      <td>1316.000</td>\n",
       "    </tr>\n",
       "  </tbody>\n",
       "</table>\n",
       "<p>8 rows × 25 columns</p>\n",
       "</div>"
      ],
      "text/plain": [
       "        unnamed: 0       year        month   dayofmonth    dayofweek  \\\n",
       "count  1936758.000  1936758.0  1936758.000  1936758.000  1936758.000   \n",
       "mean   3341651.151     2008.0        6.111       15.753        3.985   \n",
       "std    2066064.958        0.0        3.483        8.776        1.996   \n",
       "min          0.000     2008.0        1.000        1.000        1.000   \n",
       "25%    1517452.500     2008.0        3.000        8.000        2.000   \n",
       "50%    3242558.000     2008.0        6.000       16.000        4.000   \n",
       "75%    4972466.750     2008.0        9.000       23.000        6.000   \n",
       "max    7009727.000     2008.0       12.000       31.000        7.000   \n",
       "\n",
       "           deptime   crsdeptime      arrtime   crsarrtime    flightnum  ...  \\\n",
       "count  1936758.000  1936758.000  1929648.000  1936758.000  1936758.000  ...   \n",
       "mean      1518.534     1467.473     1610.141     1634.225     2184.263  ...   \n",
       "std        450.485      424.767      548.178      464.635     1944.702  ...   \n",
       "min          1.000        0.000        1.000        0.000        1.000  ...   \n",
       "25%       1203.000     1135.000     1316.000     1325.000      610.000  ...   \n",
       "50%       1545.000     1510.000     1715.000     1705.000     1543.000  ...   \n",
       "75%       1900.000     1815.000     2030.000     2014.000     3422.000  ...   \n",
       "max       2400.000     2359.000     2400.000     2400.000     9742.000  ...   \n",
       "\n",
       "          distance       taxiin      taxiout    cancelled     diverted  \\\n",
       "count  1936758.000  1929648.000  1936303.000  1936758.000  1936758.000   \n",
       "mean       765.686        6.813       18.232        0.000        0.004   \n",
       "std        574.480        5.274       14.339        0.018        0.063   \n",
       "min         11.000        0.000        0.000        0.000        0.000   \n",
       "25%        338.000        4.000       10.000        0.000        0.000   \n",
       "50%        606.000        6.000       14.000        0.000        0.000   \n",
       "75%        998.000        8.000       21.000        0.000        0.000   \n",
       "max       4962.000      240.000      422.000        1.000        1.000   \n",
       "\n",
       "       carrierdelay  weatherdelay     nasdelay  securitydelay  \\\n",
       "count   1247488.000   1247488.000  1247488.000    1247488.000   \n",
       "mean         19.179         3.704       15.022          0.090   \n",
       "std          43.546        21.493       33.833          2.023   \n",
       "min           0.000         0.000        0.000          0.000   \n",
       "25%           0.000         0.000        0.000          0.000   \n",
       "50%           2.000         0.000        2.000          0.000   \n",
       "75%          21.000         0.000       15.000          0.000   \n",
       "max        2436.000      1352.000     1357.000        392.000   \n",
       "\n",
       "       lateaircraftdelay  \n",
       "count        1247488.000  \n",
       "mean              25.296  \n",
       "std               42.055  \n",
       "min                0.000  \n",
       "25%                0.000  \n",
       "50%                8.000  \n",
       "75%               33.000  \n",
       "max             1316.000  \n",
       "\n",
       "[8 rows x 25 columns]"
      ]
     },
     "execution_count": 108,
     "metadata": {},
     "output_type": "execute_result"
    }
   ],
   "source": [
    "delay_df.describe().round(3)"
   ]
  },
  {
   "cell_type": "code",
   "execution_count": 109,
   "metadata": {
    "ExecuteTime": {
     "end_time": "2021-05-13T18:09:53.499428Z",
     "start_time": "2021-05-13T18:09:53.167618Z"
    }
   },
   "outputs": [],
   "source": [
    "# Eliminarem la columna \"unnamed: 0\", i les columnes 'flightnum' i 'tailnum', ja que la informació que aporten és massa detallada:\n",
    "delay_df.drop(['unnamed: 0', 'flightnum', 'tailnum'], axis=1, inplace=True)"
   ]
  },
  {
   "cell_type": "code",
   "execution_count": 110,
   "metadata": {
    "ExecuteTime": {
     "end_time": "2021-05-13T18:09:54.476441Z",
     "start_time": "2021-05-13T18:09:53.502424Z"
    },
    "scrolled": true
   },
   "outputs": [
    {
     "data": {
      "text/html": [
       "<div>\n",
       "<style scoped>\n",
       "    .dataframe tbody tr th:only-of-type {\n",
       "        vertical-align: middle;\n",
       "    }\n",
       "\n",
       "    .dataframe tbody tr th {\n",
       "        vertical-align: top;\n",
       "    }\n",
       "\n",
       "    .dataframe thead th {\n",
       "        text-align: right;\n",
       "    }\n",
       "</style>\n",
       "<table border=\"1\" class=\"dataframe\">\n",
       "  <thead>\n",
       "    <tr style=\"text-align: right;\">\n",
       "      <th></th>\n",
       "      <th>year</th>\n",
       "      <th>month</th>\n",
       "      <th>dayofmonth</th>\n",
       "      <th>dayofweek</th>\n",
       "      <th>deptime</th>\n",
       "      <th>crsdeptime</th>\n",
       "      <th>arrtime</th>\n",
       "      <th>crsarrtime</th>\n",
       "      <th>uniquecarrier</th>\n",
       "      <th>actualelapsedtime</th>\n",
       "      <th>...</th>\n",
       "      <th>taxiin</th>\n",
       "      <th>taxiout</th>\n",
       "      <th>cancelled</th>\n",
       "      <th>cancellationcode</th>\n",
       "      <th>diverted</th>\n",
       "      <th>carrierdelay</th>\n",
       "      <th>weatherdelay</th>\n",
       "      <th>nasdelay</th>\n",
       "      <th>securitydelay</th>\n",
       "      <th>lateaircraftdelay</th>\n",
       "    </tr>\n",
       "  </thead>\n",
       "  <tbody>\n",
       "    <tr>\n",
       "      <th>0</th>\n",
       "      <td>2008</td>\n",
       "      <td>1</td>\n",
       "      <td>3</td>\n",
       "      <td>4</td>\n",
       "      <td>2003.0</td>\n",
       "      <td>1955</td>\n",
       "      <td>2211.0</td>\n",
       "      <td>2225</td>\n",
       "      <td>WN</td>\n",
       "      <td>128.0</td>\n",
       "      <td>...</td>\n",
       "      <td>4.0</td>\n",
       "      <td>8.0</td>\n",
       "      <td>0</td>\n",
       "      <td>N</td>\n",
       "      <td>0</td>\n",
       "      <td>NaN</td>\n",
       "      <td>NaN</td>\n",
       "      <td>NaN</td>\n",
       "      <td>NaN</td>\n",
       "      <td>NaN</td>\n",
       "    </tr>\n",
       "    <tr>\n",
       "      <th>1</th>\n",
       "      <td>2008</td>\n",
       "      <td>1</td>\n",
       "      <td>3</td>\n",
       "      <td>4</td>\n",
       "      <td>754.0</td>\n",
       "      <td>735</td>\n",
       "      <td>1002.0</td>\n",
       "      <td>1000</td>\n",
       "      <td>WN</td>\n",
       "      <td>128.0</td>\n",
       "      <td>...</td>\n",
       "      <td>5.0</td>\n",
       "      <td>10.0</td>\n",
       "      <td>0</td>\n",
       "      <td>N</td>\n",
       "      <td>0</td>\n",
       "      <td>NaN</td>\n",
       "      <td>NaN</td>\n",
       "      <td>NaN</td>\n",
       "      <td>NaN</td>\n",
       "      <td>NaN</td>\n",
       "    </tr>\n",
       "    <tr>\n",
       "      <th>2</th>\n",
       "      <td>2008</td>\n",
       "      <td>1</td>\n",
       "      <td>3</td>\n",
       "      <td>4</td>\n",
       "      <td>628.0</td>\n",
       "      <td>620</td>\n",
       "      <td>804.0</td>\n",
       "      <td>750</td>\n",
       "      <td>WN</td>\n",
       "      <td>96.0</td>\n",
       "      <td>...</td>\n",
       "      <td>3.0</td>\n",
       "      <td>17.0</td>\n",
       "      <td>0</td>\n",
       "      <td>N</td>\n",
       "      <td>0</td>\n",
       "      <td>NaN</td>\n",
       "      <td>NaN</td>\n",
       "      <td>NaN</td>\n",
       "      <td>NaN</td>\n",
       "      <td>NaN</td>\n",
       "    </tr>\n",
       "    <tr>\n",
       "      <th>3</th>\n",
       "      <td>2008</td>\n",
       "      <td>1</td>\n",
       "      <td>3</td>\n",
       "      <td>4</td>\n",
       "      <td>1829.0</td>\n",
       "      <td>1755</td>\n",
       "      <td>1959.0</td>\n",
       "      <td>1925</td>\n",
       "      <td>WN</td>\n",
       "      <td>90.0</td>\n",
       "      <td>...</td>\n",
       "      <td>3.0</td>\n",
       "      <td>10.0</td>\n",
       "      <td>0</td>\n",
       "      <td>N</td>\n",
       "      <td>0</td>\n",
       "      <td>2.0</td>\n",
       "      <td>0.0</td>\n",
       "      <td>0.0</td>\n",
       "      <td>0.0</td>\n",
       "      <td>32.0</td>\n",
       "    </tr>\n",
       "    <tr>\n",
       "      <th>4</th>\n",
       "      <td>2008</td>\n",
       "      <td>1</td>\n",
       "      <td>3</td>\n",
       "      <td>4</td>\n",
       "      <td>1940.0</td>\n",
       "      <td>1915</td>\n",
       "      <td>2121.0</td>\n",
       "      <td>2110</td>\n",
       "      <td>WN</td>\n",
       "      <td>101.0</td>\n",
       "      <td>...</td>\n",
       "      <td>4.0</td>\n",
       "      <td>10.0</td>\n",
       "      <td>0</td>\n",
       "      <td>N</td>\n",
       "      <td>0</td>\n",
       "      <td>NaN</td>\n",
       "      <td>NaN</td>\n",
       "      <td>NaN</td>\n",
       "      <td>NaN</td>\n",
       "      <td>NaN</td>\n",
       "    </tr>\n",
       "    <tr>\n",
       "      <th>...</th>\n",
       "      <td>...</td>\n",
       "      <td>...</td>\n",
       "      <td>...</td>\n",
       "      <td>...</td>\n",
       "      <td>...</td>\n",
       "      <td>...</td>\n",
       "      <td>...</td>\n",
       "      <td>...</td>\n",
       "      <td>...</td>\n",
       "      <td>...</td>\n",
       "      <td>...</td>\n",
       "      <td>...</td>\n",
       "      <td>...</td>\n",
       "      <td>...</td>\n",
       "      <td>...</td>\n",
       "      <td>...</td>\n",
       "      <td>...</td>\n",
       "      <td>...</td>\n",
       "      <td>...</td>\n",
       "      <td>...</td>\n",
       "      <td>...</td>\n",
       "    </tr>\n",
       "    <tr>\n",
       "      <th>1936753</th>\n",
       "      <td>2008</td>\n",
       "      <td>12</td>\n",
       "      <td>13</td>\n",
       "      <td>6</td>\n",
       "      <td>1250.0</td>\n",
       "      <td>1220</td>\n",
       "      <td>1617.0</td>\n",
       "      <td>1552</td>\n",
       "      <td>DL</td>\n",
       "      <td>147.0</td>\n",
       "      <td>...</td>\n",
       "      <td>9.0</td>\n",
       "      <td>18.0</td>\n",
       "      <td>0</td>\n",
       "      <td>N</td>\n",
       "      <td>0</td>\n",
       "      <td>3.0</td>\n",
       "      <td>0.0</td>\n",
       "      <td>0.0</td>\n",
       "      <td>0.0</td>\n",
       "      <td>22.0</td>\n",
       "    </tr>\n",
       "    <tr>\n",
       "      <th>1936754</th>\n",
       "      <td>2008</td>\n",
       "      <td>12</td>\n",
       "      <td>13</td>\n",
       "      <td>6</td>\n",
       "      <td>657.0</td>\n",
       "      <td>600</td>\n",
       "      <td>904.0</td>\n",
       "      <td>749</td>\n",
       "      <td>DL</td>\n",
       "      <td>127.0</td>\n",
       "      <td>...</td>\n",
       "      <td>15.0</td>\n",
       "      <td>34.0</td>\n",
       "      <td>0</td>\n",
       "      <td>N</td>\n",
       "      <td>0</td>\n",
       "      <td>0.0</td>\n",
       "      <td>57.0</td>\n",
       "      <td>18.0</td>\n",
       "      <td>0.0</td>\n",
       "      <td>0.0</td>\n",
       "    </tr>\n",
       "    <tr>\n",
       "      <th>1936755</th>\n",
       "      <td>2008</td>\n",
       "      <td>12</td>\n",
       "      <td>13</td>\n",
       "      <td>6</td>\n",
       "      <td>1007.0</td>\n",
       "      <td>847</td>\n",
       "      <td>1149.0</td>\n",
       "      <td>1010</td>\n",
       "      <td>DL</td>\n",
       "      <td>162.0</td>\n",
       "      <td>...</td>\n",
       "      <td>8.0</td>\n",
       "      <td>32.0</td>\n",
       "      <td>0</td>\n",
       "      <td>N</td>\n",
       "      <td>0</td>\n",
       "      <td>1.0</td>\n",
       "      <td>0.0</td>\n",
       "      <td>19.0</td>\n",
       "      <td>0.0</td>\n",
       "      <td>79.0</td>\n",
       "    </tr>\n",
       "    <tr>\n",
       "      <th>1936756</th>\n",
       "      <td>2008</td>\n",
       "      <td>12</td>\n",
       "      <td>13</td>\n",
       "      <td>6</td>\n",
       "      <td>1251.0</td>\n",
       "      <td>1240</td>\n",
       "      <td>1446.0</td>\n",
       "      <td>1437</td>\n",
       "      <td>DL</td>\n",
       "      <td>115.0</td>\n",
       "      <td>...</td>\n",
       "      <td>13.0</td>\n",
       "      <td>13.0</td>\n",
       "      <td>0</td>\n",
       "      <td>N</td>\n",
       "      <td>0</td>\n",
       "      <td>NaN</td>\n",
       "      <td>NaN</td>\n",
       "      <td>NaN</td>\n",
       "      <td>NaN</td>\n",
       "      <td>NaN</td>\n",
       "    </tr>\n",
       "    <tr>\n",
       "      <th>1936757</th>\n",
       "      <td>2008</td>\n",
       "      <td>12</td>\n",
       "      <td>13</td>\n",
       "      <td>6</td>\n",
       "      <td>1110.0</td>\n",
       "      <td>1103</td>\n",
       "      <td>1413.0</td>\n",
       "      <td>1418</td>\n",
       "      <td>DL</td>\n",
       "      <td>123.0</td>\n",
       "      <td>...</td>\n",
       "      <td>8.0</td>\n",
       "      <td>11.0</td>\n",
       "      <td>0</td>\n",
       "      <td>N</td>\n",
       "      <td>0</td>\n",
       "      <td>NaN</td>\n",
       "      <td>NaN</td>\n",
       "      <td>NaN</td>\n",
       "      <td>NaN</td>\n",
       "      <td>NaN</td>\n",
       "    </tr>\n",
       "  </tbody>\n",
       "</table>\n",
       "<p>1936758 rows × 27 columns</p>\n",
       "</div>"
      ],
      "text/plain": [
       "         year  month  dayofmonth  dayofweek  deptime  crsdeptime  arrtime  \\\n",
       "0        2008      1           3          4   2003.0        1955   2211.0   \n",
       "1        2008      1           3          4    754.0         735   1002.0   \n",
       "2        2008      1           3          4    628.0         620    804.0   \n",
       "3        2008      1           3          4   1829.0        1755   1959.0   \n",
       "4        2008      1           3          4   1940.0        1915   2121.0   \n",
       "...       ...    ...         ...        ...      ...         ...      ...   \n",
       "1936753  2008     12          13          6   1250.0        1220   1617.0   \n",
       "1936754  2008     12          13          6    657.0         600    904.0   \n",
       "1936755  2008     12          13          6   1007.0         847   1149.0   \n",
       "1936756  2008     12          13          6   1251.0        1240   1446.0   \n",
       "1936757  2008     12          13          6   1110.0        1103   1413.0   \n",
       "\n",
       "         crsarrtime uniquecarrier  actualelapsedtime  ...  taxiin  taxiout  \\\n",
       "0              2225            WN              128.0  ...     4.0      8.0   \n",
       "1              1000            WN              128.0  ...     5.0     10.0   \n",
       "2               750            WN               96.0  ...     3.0     17.0   \n",
       "3              1925            WN               90.0  ...     3.0     10.0   \n",
       "4              2110            WN              101.0  ...     4.0     10.0   \n",
       "...             ...           ...                ...  ...     ...      ...   \n",
       "1936753        1552            DL              147.0  ...     9.0     18.0   \n",
       "1936754         749            DL              127.0  ...    15.0     34.0   \n",
       "1936755        1010            DL              162.0  ...     8.0     32.0   \n",
       "1936756        1437            DL              115.0  ...    13.0     13.0   \n",
       "1936757        1418            DL              123.0  ...     8.0     11.0   \n",
       "\n",
       "         cancelled  cancellationcode diverted carrierdelay  weatherdelay  \\\n",
       "0                0                 N        0          NaN           NaN   \n",
       "1                0                 N        0          NaN           NaN   \n",
       "2                0                 N        0          NaN           NaN   \n",
       "3                0                 N        0          2.0           0.0   \n",
       "4                0                 N        0          NaN           NaN   \n",
       "...            ...               ...      ...          ...           ...   \n",
       "1936753          0                 N        0          3.0           0.0   \n",
       "1936754          0                 N        0          0.0          57.0   \n",
       "1936755          0                 N        0          1.0           0.0   \n",
       "1936756          0                 N        0          NaN           NaN   \n",
       "1936757          0                 N        0          NaN           NaN   \n",
       "\n",
       "         nasdelay  securitydelay  lateaircraftdelay  \n",
       "0             NaN            NaN                NaN  \n",
       "1             NaN            NaN                NaN  \n",
       "2             NaN            NaN                NaN  \n",
       "3             0.0            0.0               32.0  \n",
       "4             NaN            NaN                NaN  \n",
       "...           ...            ...                ...  \n",
       "1936753       0.0            0.0               22.0  \n",
       "1936754      18.0            0.0                0.0  \n",
       "1936755      19.0            0.0               79.0  \n",
       "1936756       NaN            NaN                NaN  \n",
       "1936757       NaN            NaN                NaN  \n",
       "\n",
       "[1936758 rows x 27 columns]"
      ]
     },
     "execution_count": 110,
     "metadata": {},
     "output_type": "execute_result"
    }
   ],
   "source": [
    "delay_df #veiem que hi ha 27 columnes ara"
   ]
  },
  {
   "cell_type": "code",
   "execution_count": 111,
   "metadata": {
    "ExecuteTime": {
     "end_time": "2021-05-13T18:09:54.484436Z",
     "start_time": "2021-05-13T18:09:54.478440Z"
    },
    "run_control": {
     "marked": false
    },
    "scrolled": true
   },
   "outputs": [
    {
     "data": {
      "text/plain": [
       "\" Codi eliminat \\n# Combinarem les columnes 'year', 'month' i 'dayofmonth' en una sola: depdate\\n# Primer canviarem el nom de la columna 'dayofmonth' per 'day'\\ndelay_df.rename(columns={'dayofmonth':'day'}, inplace=True)\\ndelay_df['date'] = pd.to_datetime(delay_df[['year','month','day']])\\n# I eliminarem les 3 columnes per tal de no tenir informació per duplicat\\ndelay_df.drop(['year', 'month', 'day'], axis=1, inplace=True)\\ndelay_df.columns\\n\""
      ]
     },
     "execution_count": 111,
     "metadata": {},
     "output_type": "execute_result"
    }
   ],
   "source": [
    "''' Codi eliminat \n",
    "# Combinarem les columnes 'year', 'month' i 'dayofmonth' en una sola: depdate\n",
    "# Primer canviarem el nom de la columna 'dayofmonth' per 'day'\n",
    "delay_df.rename(columns={'dayofmonth':'day'}, inplace=True)\n",
    "delay_df['date'] = pd.to_datetime(delay_df[['year','month','day']])\n",
    "# I eliminarem les 3 columnes per tal de no tenir informació per duplicat\n",
    "delay_df.drop(['year', 'month', 'day'], axis=1, inplace=True)\n",
    "delay_df.columns\n",
    "'''"
   ]
  },
  {
   "cell_type": "markdown",
   "metadata": {},
   "source": [
    "## - Exercici 2\n",
    "Fes un informe complet del data set:.\n",
    "\n",
    "Resumeix estadísticament les columnes d’interès\n",
    "Troba quantes dades faltants hi ha per columna\n",
    "Crea columnes noves (velocitat mitjana del vol, si ha arribat tard o no...)\n",
    "Taula de les aerolínies amb més endarreriments acumulats\n",
    "Quins són els vols més llargs? I els més endarrerits?\n",
    "Etc."
   ]
  },
  {
   "cell_type": "code",
   "execution_count": 112,
   "metadata": {
    "ExecuteTime": {
     "end_time": "2021-05-13T18:09:55.141060Z",
     "start_time": "2021-05-13T18:09:54.486435Z"
    },
    "run_control": {
     "marked": false
    },
    "scrolled": true
   },
   "outputs": [
    {
     "data": {
      "text/plain": [
       "year                      0\n",
       "month                     0\n",
       "dayofmonth                0\n",
       "dayofweek                 0\n",
       "deptime                   0\n",
       "crsdeptime                0\n",
       "arrtime                7110\n",
       "crsarrtime                0\n",
       "uniquecarrier             0\n",
       "actualelapsedtime      8387\n",
       "crselapsedtime          198\n",
       "airtime                8387\n",
       "arrdelay               8387\n",
       "depdelay                  0\n",
       "origin                    0\n",
       "dest                      0\n",
       "distance                  0\n",
       "taxiin                 7110\n",
       "taxiout                 455\n",
       "cancelled                 0\n",
       "cancellationcode          0\n",
       "diverted                  0\n",
       "carrierdelay         689270\n",
       "weatherdelay         689270\n",
       "nasdelay             689270\n",
       "securitydelay        689270\n",
       "lateaircraftdelay    689270\n",
       "dtype: int64"
      ]
     },
     "execution_count": 112,
     "metadata": {},
     "output_type": "execute_result"
    }
   ],
   "source": [
    "# mirem si hi ha valors nulls:\n",
    "delay_df.isnull().sum()"
   ]
  },
  {
   "cell_type": "code",
   "execution_count": 113,
   "metadata": {
    "ExecuteTime": {
     "end_time": "2021-05-13T18:09:58.833422Z",
     "start_time": "2021-05-13T18:09:55.143059Z"
    }
   },
   "outputs": [],
   "source": [
    "# fem servir el mètode drop_duplicates(inplace=True) per eliminar les posibles files duplicades\n",
    "delay_df.drop_duplicates(inplace=True)"
   ]
  },
  {
   "cell_type": "code",
   "execution_count": 114,
   "metadata": {
    "ExecuteTime": {
     "end_time": "2021-05-13T18:09:58.839418Z",
     "start_time": "2021-05-13T18:09:58.834431Z"
    }
   },
   "outputs": [
    {
     "data": {
      "text/plain": [
       "(1936756, 27)"
      ]
     },
     "execution_count": 114,
     "metadata": {},
     "output_type": "execute_result"
    }
   ],
   "source": [
    "# comprovem el shape per veure si s'han eliminat files\n",
    "delay_df.shape #no hi havia duplicats"
   ]
  },
  {
   "cell_type": "code",
   "execution_count": 115,
   "metadata": {
    "ExecuteTime": {
     "end_time": "2021-05-13T18:09:59.166495Z",
     "start_time": "2021-05-13T18:09:58.841419Z"
    }
   },
   "outputs": [
    {
     "name": "stdout",
     "output_type": "stream",
     "text": [
      "20\n",
      "['WN' 'XE' 'YV' 'OH' 'OO' 'UA' 'US' 'DL' 'EV' 'F9' 'FL' 'HA' 'MQ' 'NW'\n",
      " '9E' 'AA' 'AQ' 'AS' 'B6' 'CO']\n"
     ]
    }
   ],
   "source": [
    "# obtenim les diferents aerolinies que apareixen al dataframe:\n",
    "airlines = delay_df.uniquecarrier.unique()\n",
    "print(delay_df.uniquecarrier.nunique())\n",
    "\n",
    "print(airlines)"
   ]
  },
  {
   "cell_type": "code",
   "execution_count": 116,
   "metadata": {
    "ExecuteTime": {
     "end_time": "2021-05-13T18:09:59.337397Z",
     "start_time": "2021-05-13T18:09:59.167494Z"
    },
    "code_folding": [],
    "scrolled": true
   },
   "outputs": [
    {
     "data": {
      "text/plain": [
       "WN    377602\n",
       "AA    191865\n",
       "MQ    141920\n",
       "UA    141426\n",
       "OO    132433\n",
       "DL    114238\n",
       "XE    103663\n",
       "CO    100195\n",
       "US     98425\n",
       "EV     81877\n",
       "NW     79108\n",
       "FL     71284\n",
       "YV     67063\n",
       "B6     55315\n",
       "OH     52657\n",
       "9E     51885\n",
       "AS     39293\n",
       "F9     28267\n",
       "HA      7490\n",
       "AQ       750\n",
       "Name: uniquecarrier, dtype: int64"
      ]
     },
     "execution_count": 116,
     "metadata": {},
     "output_type": "execute_result"
    }
   ],
   "source": [
    "# contem quants cops apareix cadascuna de les aerolinies:\n",
    "vols = delay_df['uniquecarrier'].value_counts()\n",
    "vols"
   ]
  },
  {
   "cell_type": "code",
   "execution_count": 117,
   "metadata": {
    "ExecuteTime": {
     "end_time": "2021-05-13T18:10:01.023750Z",
     "start_time": "2021-05-13T18:09:59.338395Z"
    },
    "scrolled": true
   },
   "outputs": [
    {
     "data": {
      "image/png": "[encoded data removed]",
      "text/plain": [
       "<Figure size 720x576 with 1 Axes>"
      ]
     },
     "metadata": {
      "needs_background": "light"
     },
     "output_type": "display_data"
    }
   ],
   "source": [
    "vols.plot(kind = 'bar', title = 'Vols per aerolinia')\n",
    "plt.show()"
   ]
  },
  {
   "cell_type": "code",
   "execution_count": 118,
   "metadata": {
    "ExecuteTime": {
     "end_time": "2021-05-13T18:10:01.492035Z",
     "start_time": "2021-05-13T18:10:01.025741Z"
    },
    "scrolled": true
   },
   "outputs": [
    {
     "data": {
      "image/png": "[encoded data removed]",
      "text/plain": [
       "<Figure size 720x576 with 1 Axes>"
      ]
     },
     "metadata": {
      "needs_background": "light"
     },
     "output_type": "display_data"
    }
   ],
   "source": [
    "# Veiem quant s'ha volat per mes.\n",
    "vols_mes = delay_df['month'].value_counts().sort_index()\n",
    "#Codi eliminat: vols_mes = delay_df['date'].groupby([delay_df['date'].dt.month])\n",
    "vols_mes.index = ['Gener', 'Febrer', 'Març', 'Abril', 'Maig', 'Juny', 'Juliol', 'Agost', 'Setembre', 'Octubre', 'Novembre', 'Desembre']\n",
    "vols_mes.plot(kind='bar', title='Vols per mes')\n",
    "plt.show()\n",
    "# Els mesos que més s'ha volat son març, juny i desembre!"
   ]
  },
  {
   "cell_type": "code",
   "execution_count": 119,
   "metadata": {
    "ExecuteTime": {
     "end_time": "2021-05-13T18:10:01.926786Z",
     "start_time": "2021-05-13T18:10:01.494037Z"
    },
    "scrolled": true
   },
   "outputs": [
    {
     "data": {
      "image/png": "[encoded data removed]",
      "text/plain": [
       "<Figure size 720x576 with 1 Axes>"
      ]
     },
     "metadata": {
      "needs_background": "light"
     },
     "output_type": "display_data"
    }
   ],
   "source": [
    "# Veiem quant s'ha volat per dia de mes.\n",
    "vols_dia_mes = delay_df['dayofmonth'].value_counts().sort_index()\n",
    "vols_dia_mes.plot(kind='bar', title='Vols per dia de mes')\n",
    "plt.show()\n",
    "# Aquesta gràfica potser no dóna tanta informació, ja que no tots els mesos tenen 31 dies, \n",
    "# no sabem quant és cap de setmana o feiner, etc."
   ]
  },
  {
   "cell_type": "code",
   "execution_count": 120,
   "metadata": {
    "ExecuteTime": {
     "end_time": "2021-05-13T18:10:02.251599Z",
     "start_time": "2021-05-13T18:10:01.929791Z"
    },
    "scrolled": true
   },
   "outputs": [
    {
     "data": {
      "image/png": "[encoded data removed]",
      "text/plain": [
       "<Figure size 720x576 with 1 Axes>"
      ]
     },
     "metadata": {
      "needs_background": "light"
     },
     "output_type": "display_data"
    }
   ],
   "source": [
    "# Veiem quant s'ha volat per dia de la setmana.\n",
    "vols_dia_setmana = delay_df['dayofweek'].value_counts().sort_index()\n",
    "vols_dia_setmana.index = ['Dilluns', 'Dimarts', 'Dimecres', 'Dijous', 'Divendres', 'Disabte', 'Diumenge']\n",
    "vols_dia_setmana.plot(kind='bar', title='Vols per dia de la setmana')\n",
    "plt.show()\n",
    "# El dia de la setmana que més es vola és divendres!"
   ]
  },
  {
   "cell_type": "code",
   "execution_count": 121,
   "metadata": {
    "ExecuteTime": {
     "end_time": "2021-05-13T18:10:03.819615Z",
     "start_time": "2021-05-13T18:10:02.252598Z"
    },
    "scrolled": true
   },
   "outputs": [
    {
     "name": "stdout",
     "output_type": "stream",
     "text": [
      "Els 10 aeroports amb més tràfic de sortida són: \n",
      "ATL    131613\n",
      "ORD    125979\n",
      "DFW     95414\n",
      "DEN     74322\n",
      "LAX     58772\n",
      "IAH     56847\n",
      "PHX     55720\n",
      "LAS     53709\n",
      "EWR     52925\n",
      "DTW     43923\n",
      "Name: origin, dtype: int64\n",
      "\n",
      "I els 10 amb més tràfic d'arrribades són: \n",
      "ORD    108984\n",
      "ATL    106898\n",
      "DFW     70657\n",
      "DEN     63002\n",
      "LAX     59969\n",
      "EWR     55861\n",
      "LAS     48857\n",
      "PHX     47836\n",
      "SFO     46876\n",
      "IAH     43905\n",
      "Name: dest, dtype: int64\n"
     ]
    }
   ],
   "source": [
    "# mirem quins aeroports son els que tenen més tràfic:\n",
    "aeroport_origen = delay_df['origin'].value_counts()\n",
    "aeroport_desti = delay_df['dest'].value_counts()\n",
    "airports = delay_df[['origin','dest']].nunique()\n",
    "print(\"Els 10 aeroports amb més tràfic de sortida són: \\n{}\\n\\nI els 10 amb més tràfic d'arrribades són: \\n{}\".format(aeroport_origen[:10], aeroport_desti[:10]))"
   ]
  },
  {
   "cell_type": "code",
   "execution_count": 122,
   "metadata": {
    "ExecuteTime": {
     "end_time": "2021-05-13T18:10:03.953538Z",
     "start_time": "2021-05-13T18:10:03.821615Z"
    },
    "scrolled": false
   },
   "outputs": [
    {
     "data": {
      "text/plain": [
       "0          -3.0\n",
       "1          10.5\n",
       "2          11.0\n",
       "3          34.0\n",
       "4          18.0\n",
       "           ... \n",
       "1936753    27.5\n",
       "1936754    66.0\n",
       "1936755    89.5\n",
       "1936756    10.0\n",
       "1936757     1.0\n",
       "Name: meandelay, Length: 1936756, dtype: float64"
      ]
     },
     "execution_count": 122,
     "metadata": {},
     "output_type": "execute_result"
    }
   ],
   "source": [
    "# calculem la 'mean' entre el retard de sortida i el d'arribada, per tenir un valor de retard \"únic\"\n",
    "delay_df['meandelay'] = delay_df[['arrdelay', 'depdelay']].mean(axis=1)\n",
    "delay_df['meandelay']"
   ]
  },
  {
   "cell_type": "code",
   "execution_count": 123,
   "metadata": {
    "ExecuteTime": {
     "end_time": "2021-05-13T18:10:04.371320Z",
     "start_time": "2021-05-13T18:10:03.955536Z"
    }
   },
   "outputs": [
    {
     "data": {
      "text/plain": [
       "arrdelay     81376945.0\n",
       "depdelay     83639144.0\n",
       "meandelay    82779277.0\n",
       "dtype: float64"
      ]
     },
     "execution_count": 123,
     "metadata": {},
     "output_type": "execute_result"
    }
   ],
   "source": [
    "delay_df[['arrdelay','depdelay','meandelay']].sum()"
   ]
  },
  {
   "cell_type": "code",
   "execution_count": 124,
   "metadata": {
    "ExecuteTime": {
     "end_time": "2021-05-13T18:10:04.653173Z",
     "start_time": "2021-05-13T18:10:04.372320Z"
    },
    "scrolled": true
   },
   "outputs": [
    {
     "name": "stdout",
     "output_type": "stream",
     "text": [
      "Gener        7930149.0\n",
      "Febrer       8539158.0\n",
      "Març         8525047.0\n",
      "Abril        6115273.0\n",
      "Maig         5868798.0\n",
      "Juny         9283765.5\n",
      "Juliol       8478143.5\n",
      "Agost        6933883.5\n",
      "Setembre     3508764.0\n",
      "Octubre      3434275.0\n",
      "Novembre     4109123.0\n",
      "Desembre    10052897.5\n",
      "Name: meandelay, dtype: float64\n"
     ]
    },
    {
     "data": {
      "text/plain": [
       "Text(0, 0.5, 'Retard acumulat en minuts')"
      ]
     },
     "execution_count": 124,
     "metadata": {},
     "output_type": "execute_result"
    },
    {
     "data": {
      "image/png": "[encoded data removed]",
      "text/plain": [
       "<Figure size 720x576 with 1 Axes>"
      ]
     },
     "metadata": {
      "needs_background": "light"
     },
     "output_type": "display_data"
    }
   ],
   "source": [
    "# Mirem quins mesos hi ha més retard acumulat:\n",
    "retardacumulat = delay_df.groupby('month')['meandelay'].sum()\n",
    "retardacumulat.index = ['Gener', 'Febrer', 'Març', 'Abril', 'Maig', 'Juny', 'Juliol', 'Agost', 'Setembre', 'Octubre', 'Novembre', 'Desembre']\n",
    "print(retardacumulat)\n",
    "retardacumulat.plot(kind='bar', title='Retard acumulat per mes')\n",
    "plt.ylabel('Retard acumulat en minuts')\n",
    "# el mes amb més retard es desembre!!"
   ]
  },
  {
   "cell_type": "code",
   "execution_count": 125,
   "metadata": {
    "scrolled": true
   },
   "outputs": [
    {
     "name": "stdout",
     "output_type": "stream",
     "text": [
      "uniquecarrier\n",
      "9E     2447130.0\n",
      "AA     8934106.5\n",
      "AQ       18236.0\n",
      "AS     1467589.0\n",
      "B6     3048230.0\n",
      "CO     4197959.0\n",
      "DL     4511822.5\n",
      "EV     3926315.5\n",
      "F9      786758.5\n",
      "FL     3074468.0\n",
      "HA      252406.0\n",
      "MQ     6325166.5\n",
      "NW     3371965.5\n",
      "OH     2632046.0\n",
      "OO     5976067.5\n",
      "UA     6919960.0\n",
      "US     3706054.5\n",
      "WN    12263226.5\n",
      "XE     5204609.0\n",
      "YV     3715160.5\n",
      "Name: meandelay, dtype: float64\n"
     ]
    },
    {
     "data": {
      "text/plain": [
       "Text(0, 0.5, 'Retard acumulat en minuts')"
      ]
     },
     "execution_count": 125,
     "metadata": {},
     "output_type": "execute_result"
    },
    {
     "data": {
      "image/png": "[encoded data removed]",
      "text/plain": [
       "<Figure size 720x576 with 1 Axes>"
      ]
     },
     "metadata": {
      "needs_background": "light"
     },
     "output_type": "display_data"
    }
   ],
   "source": [
    "# Mirem quiens aerolinies tenen més retard:\n",
    "retardaero = delay_df.groupby('uniquecarrier')['meandelay'].sum()\n",
    "print(retardaero)\n",
    "retardaero.plot(kind='bar', title='Retard acumulat per aerolinia')\n",
    "plt.ylabel('Retard acumulat en minuts')"
   ]
  },
  {
   "cell_type": "code",
   "execution_count": 126,
   "metadata": {
    "scrolled": true
   },
   "outputs": [
    {
     "name": "stdout",
     "output_type": "stream",
     "text": [
      "El vol més llarg ha estat desde EWR fins a HNL\n",
      "El vol amb més delay ha estat el 10 del 4 del 2008, amb un delay de 2460.0 minuts, 41.0 hores!!!\n"
     ]
    }
   ],
   "source": [
    "#El vol més llarg i el vol amb més retras són:\n",
    "maxdistance = delay_df.loc[delay_df['distance'].idxmax()]\n",
    "print(\"El vol més llarg ha estat desde {} fins a {}\".format(maxdistance['origin'], maxdistance['dest'])) # EWR correspon a Newark i HNL correspon a Honolulu!\n",
    "maxdelay = delay_df.loc[delay_df['meandelay'].idxmax()]\n",
    "print(\"El vol amb més delay ha estat el {} del {} del {}, amb un delay de {} minuts, {} hores!!!\".format(maxdelay['dayofmonth'], maxdelay['month'], maxdelay['year'], maxdelay['meandelay'], (maxdelay['meandelay']/60)))\n",
    "# 41 hores de delay?? no té pinta de ser correcte!\n"
   ]
  },
  {
   "cell_type": "code",
   "execution_count": 127,
   "metadata": {},
   "outputs": [
    {
     "data": {
      "text/plain": [
       "count     1936756\n",
       "unique          2\n",
       "top          True\n",
       "freq      1215010\n",
       "Name: delayed, dtype: object"
      ]
     },
     "execution_count": 127,
     "metadata": {},
     "output_type": "execute_result"
    }
   ],
   "source": [
    "# Afegim una columna que ens indiqui si el vol ha tingut delay (True) o no (False) a l'arribada. \n",
    "# Es considera que el vol s'ha retrassat si a l'arribada (arrdelay) hi ha +15 minuts respecte el previst.\n",
    "delay_df['delayed'] = (delay_df['arrdelay'] > 15)\n",
    "delay_df['delayed'].describe()\n"
   ]
  },
  {
   "cell_type": "code",
   "execution_count": 128,
   "metadata": {
    "ExecuteTime": {
     "end_time": "2021-05-13T18:59:06.663069Z",
     "start_time": "2021-05-13T18:59:06.148366Z"
    }
   },
   "outputs": [
    {
     "data": {
      "text/html": [
       "<div>\n",
       "<style scoped>\n",
       "    .dataframe tbody tr th:only-of-type {\n",
       "        vertical-align: middle;\n",
       "    }\n",
       "\n",
       "    .dataframe tbody tr th {\n",
       "        vertical-align: top;\n",
       "    }\n",
       "\n",
       "    .dataframe thead th {\n",
       "        text-align: right;\n",
       "    }\n",
       "</style>\n",
       "<table border=\"1\" class=\"dataframe\">\n",
       "  <thead>\n",
       "    <tr style=\"text-align: right;\">\n",
       "      <th></th>\n",
       "      <th>distance</th>\n",
       "      <th>airtime</th>\n",
       "    </tr>\n",
       "  </thead>\n",
       "  <tbody>\n",
       "    <tr>\n",
       "      <th>count</th>\n",
       "      <td>1936756.000</td>\n",
       "      <td>1928369.000</td>\n",
       "    </tr>\n",
       "    <tr>\n",
       "      <th>mean</th>\n",
       "      <td>765.686</td>\n",
       "      <td>108.277</td>\n",
       "    </tr>\n",
       "    <tr>\n",
       "      <th>std</th>\n",
       "      <td>574.480</td>\n",
       "      <td>68.643</td>\n",
       "    </tr>\n",
       "    <tr>\n",
       "      <th>min</th>\n",
       "      <td>11.000</td>\n",
       "      <td>0.000</td>\n",
       "    </tr>\n",
       "    <tr>\n",
       "      <th>25%</th>\n",
       "      <td>338.000</td>\n",
       "      <td>58.000</td>\n",
       "    </tr>\n",
       "    <tr>\n",
       "      <th>50%</th>\n",
       "      <td>606.000</td>\n",
       "      <td>90.000</td>\n",
       "    </tr>\n",
       "    <tr>\n",
       "      <th>75%</th>\n",
       "      <td>998.000</td>\n",
       "      <td>137.000</td>\n",
       "    </tr>\n",
       "    <tr>\n",
       "      <th>max</th>\n",
       "      <td>4962.000</td>\n",
       "      <td>1091.000</td>\n",
       "    </tr>\n",
       "  </tbody>\n",
       "</table>\n",
       "</div>"
      ],
      "text/plain": [
       "          distance      airtime\n",
       "count  1936756.000  1928369.000\n",
       "mean       765.686      108.277\n",
       "std        574.480       68.643\n",
       "min         11.000        0.000\n",
       "25%        338.000       58.000\n",
       "50%        606.000       90.000\n",
       "75%        998.000      137.000\n",
       "max       4962.000     1091.000"
      ]
     },
     "execution_count": 128,
     "metadata": {},
     "output_type": "execute_result"
    }
   ],
   "source": [
    "delay_df[['distance','airtime']].describe().round(3)\n"
   ]
  },
  {
   "cell_type": "code",
   "execution_count": 129,
   "metadata": {
    "ExecuteTime": {
     "end_time": "2021-05-13T19:06:14.678630Z",
     "start_time": "2021-05-13T19:06:14.520719Z"
    }
   },
   "outputs": [
    {
     "data": {
      "text/plain": [
       "count    1928369.000\n",
       "mean             inf\n",
       "std              NaN\n",
       "min           34.263\n",
       "25%          566.269\n",
       "50%          649.884\n",
       "75%          721.223\n",
       "max              inf\n",
       "Name: velocitat, dtype: float64"
      ]
     },
     "execution_count": 129,
     "metadata": {},
     "output_type": "execute_result"
    }
   ],
   "source": [
    "# Creem una nova columna amb la velocitat mitjana de cada vol (velocitat = distancia / temps)\n",
    "# la columna 'airtime' està en minuts, dividim entre 60 per tenir en h\n",
    "# i la columna 'distance' està en milles, multipliquem per 1,60934 per passar-ho a km\n",
    "delay_df['velocitat'] = ((delay_df['distance'] * 1.60934) / (delay_df['airtime'] / 60)).round(3)\n",
    "delay_df['velocitat'].describe().round(3)"
   ]
  },
  {
   "cell_type": "code",
   "execution_count": 130,
   "metadata": {
    "scrolled": true
   },
   "outputs": [
    {
     "data": {
      "text/html": [
       "<div>\n",
       "<style scoped>\n",
       "    .dataframe tbody tr th:only-of-type {\n",
       "        vertical-align: middle;\n",
       "    }\n",
       "\n",
       "    .dataframe tbody tr th {\n",
       "        vertical-align: top;\n",
       "    }\n",
       "\n",
       "    .dataframe thead th {\n",
       "        text-align: right;\n",
       "    }\n",
       "</style>\n",
       "<table border=\"1\" class=\"dataframe\">\n",
       "  <thead>\n",
       "    <tr style=\"text-align: right;\">\n",
       "      <th></th>\n",
       "      <th>airtime</th>\n",
       "      <th>cancelled</th>\n",
       "    </tr>\n",
       "  </thead>\n",
       "  <tbody>\n",
       "    <tr>\n",
       "      <th>53543</th>\n",
       "      <td>0.0</td>\n",
       "      <td>0</td>\n",
       "    </tr>\n",
       "    <tr>\n",
       "      <th>54342</th>\n",
       "      <td>0.0</td>\n",
       "      <td>0</td>\n",
       "    </tr>\n",
       "    <tr>\n",
       "      <th>245633</th>\n",
       "      <td>0.0</td>\n",
       "      <td>0</td>\n",
       "    </tr>\n",
       "    <tr>\n",
       "      <th>414132</th>\n",
       "      <td>0.0</td>\n",
       "      <td>0</td>\n",
       "    </tr>\n",
       "    <tr>\n",
       "      <th>441835</th>\n",
       "      <td>0.0</td>\n",
       "      <td>0</td>\n",
       "    </tr>\n",
       "    <tr>\n",
       "      <th>782761</th>\n",
       "      <td>0.0</td>\n",
       "      <td>0</td>\n",
       "    </tr>\n",
       "    <tr>\n",
       "      <th>784702</th>\n",
       "      <td>0.0</td>\n",
       "      <td>0</td>\n",
       "    </tr>\n",
       "  </tbody>\n",
       "</table>\n",
       "</div>"
      ],
      "text/plain": [
       "        airtime  cancelled\n",
       "53543       0.0          0\n",
       "54342       0.0          0\n",
       "245633      0.0          0\n",
       "414132      0.0          0\n",
       "441835      0.0          0\n",
       "782761      0.0          0\n",
       "784702      0.0          0"
      ]
     },
     "execution_count": 130,
     "metadata": {},
     "output_type": "execute_result"
    }
   ],
   "source": [
    "# Veiem que hi ha valors inf, degut a 0 en la divisió:\n",
    "a = delay_df.loc[delay_df['airtime']==0]\n",
    "a[['airtime','cancelled']]\n",
    "# Són només 7 files, en les que clarament la informació no és correcte: no han estat vols cancelats i airtime = 0."
   ]
  },
  {
   "cell_type": "code",
   "execution_count": 131,
   "metadata": {
    "scrolled": true
   },
   "outputs": [
    {
     "data": {
      "text/plain": [
       "count    1928362.000\n",
       "mean         638.832\n",
       "std          156.934\n",
       "min           34.263\n",
       "25%          566.269\n",
       "50%          649.884\n",
       "75%          721.223\n",
       "max        89994.293\n",
       "Name: velocitat, dtype: float64"
      ]
     },
     "execution_count": 131,
     "metadata": {},
     "output_type": "execute_result"
    }
   ],
   "source": [
    "# Les eliminem:\n",
    "delay_df.drop(delay_df.loc[delay_df['airtime']==0].index, inplace=True)\n",
    "delay_df['airtime'].describe().round(3) #ja no apareixen els 0\n",
    "delay_df['velocitat'].describe().round(3) # la velocitat mitjana dels avions és de 638.832 km/h\n",
    "#seguim tenint algún valor erròni (velocitat max 89994 km/h és impossible), però ja quadra més!"
   ]
  },
  {
   "cell_type": "markdown",
   "metadata": {},
   "source": [
    "## - Exercici 3\n",
    "Exporta el data set net i amb les noves columnes a Excel."
   ]
  },
  {
   "cell_type": "code",
   "execution_count": 132,
   "metadata": {},
   "outputs": [],
   "source": [
    "# Exportem a excel:\n",
    "delay_df.to_csv(r'..\\DB\\NewDelayedFlights.csv')"
   ]
  }
 ],
 "metadata": {
  "hide_input": false,
  "kernelspec": {
   "display_name": "Python 3",
   "language": "python",
   "name": "python3"
  },
  "language_info": {
   "codemirror_mode": {
    "name": "ipython",
    "version": 3
   },
   "file_extension": ".py",
   "mimetype": "text/x-python",
   "name": "python",
   "nbconvert_exporter": "python",
   "pygments_lexer": "ipython3",
   "version": "3.8.8"
  },
  "toc": {
   "base_numbering": 1,
   "nav_menu": {},
   "number_sections": true,
   "sideBar": true,
   "skip_h1_title": false,
   "title_cell": "Table of Contents",
   "title_sidebar": "Contents",
   "toc_cell": false,
   "toc_position": {},
   "toc_section_display": true,
   "toc_window_display": false
  },
  "varInspector": {
   "cols": {
    "lenName": 16,
    "lenType": 16,
    "lenVar": 40
   },
   "kernels_config": {
    "python": {
     "delete_cmd_postfix": "",
     "delete_cmd_prefix": "del ",
     "library": "var_list.py",
     "varRefreshCmd": "print(var_dic_list())"
    },
    "r": {
     "delete_cmd_postfix": ") ",
     "delete_cmd_prefix": "rm(",
     "library": "var_list.r",
     "varRefreshCmd": "cat(var_dic_list()) "
    }
   },
   "types_to_exclude": [
    "module",
    "function",
    "builtin_function_or_method",
    "instance",
    "_Feature"
   ],
   "window_display": true
  }
 },
 "nbformat": 4,
 "nbformat_minor": 4
}
