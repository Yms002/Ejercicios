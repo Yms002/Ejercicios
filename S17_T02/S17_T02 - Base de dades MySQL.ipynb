{
 "cells": [
  {
   "cell_type": "markdown",
   "metadata": {},
   "source": [
    "# S17 T02: Base de dades MySQL"
   ]
  },
  {
   "cell_type": "markdown",
   "metadata": {},
   "source": [
    "## Nivell 1"
   ]
  },
  {
   "cell_type": "markdown",
   "metadata": {},
   "source": [
    "### Exercici 1\n",
    "- Crea una base de dades relacionals senzilla utilitzant MySQL(https://www.mysql.com/) i connecta-la a Python"
   ]
  },
  {
   "cell_type": "code",
   "execution_count": 1,
   "metadata": {},
   "outputs": [],
   "source": [
    "# Importamos las librerías necesarias\n",
    "import pandas as pd\n",
    "import numpy as np\n",
    "import matplotlib.pyplot as plt\n",
    "import mysql.connector"
   ]
  },
  {
   "cell_type": "code",
   "execution_count": 2,
   "metadata": {},
   "outputs": [
    {
     "name": "stdout",
     "output_type": "stream",
     "text": [
      "<mysql.connector.connection_cext.CMySQLConnection object at 0x0000020966CCA070>\n"
     ]
    }
   ],
   "source": [
    "# Conexión a la base de datos\n",
    "mydb = mysql.connector.connect(\n",
    "    host=\"localhost\",\n",
    "    user=\"admin\",\n",
    "    password=\"123\"\n",
    ")\n",
    "print(mydb)"
   ]
  },
  {
   "cell_type": "code",
   "execution_count": 3,
   "metadata": {},
   "outputs": [],
   "source": [
    "# Creamos una nueva base de datos \"lientes\"\n",
    "mycursor = mydb.cursor()\n",
    "mycursor.execute(\"CREATE DATABASE clientes\")"
   ]
  },
  {
   "cell_type": "code",
   "execution_count": 4,
   "metadata": {},
   "outputs": [
    {
     "name": "stdout",
     "output_type": "stream",
     "text": [
      "('clientes',)\n"
     ]
    }
   ],
   "source": [
    "# Conexión a la base de datos \"clientes\"\n",
    "mydb = mysql.connector.connect(\n",
    "    host=\"localhost\",\n",
    "    user=\"admin\",\n",
    "    password=\"123\",\n",
    "    database=\"clientes\"\n",
    ")\n",
    "mycursor = mydb.cursor(buffered=True) # Para que no se guarde en memoria\n",
    "\n",
    "# Creamos una tabla \"clientes\", con un identificativo (primary key), un nombre y una dirección\n",
    "mycursor.execute(\"CREATE TABLE clientes (id INT AUTO_INCREMENT PRIMARY KEY, nombre VARCHAR(255), direccion VARCHAR(255))\")\n",
    "\n",
    "# Comprobamos que se ha creado correctamente\n",
    "mycursor.execute(\"SHOW TABLES\")\n",
    "for x in mycursor:\n",
    "    print(x)"
   ]
  },
  {
   "cell_type": "code",
   "execution_count": 15,
   "metadata": {},
   "outputs": [
    {
     "name": "stdout",
     "output_type": "stream",
     "text": [
      "Se han insertado 9 registros.\n"
     ]
    }
   ],
   "source": [
    "# Crearemos un diccionario con los datos de los clientes para insertarlos en la base de datos\n",
    "clientes = [\n",
    "    (\"Juan\", \"Calle falsa 123\"),\n",
    "    (\"Pedro\", \"Calle verdadera 456\"),\n",
    "    (\"Ana\", \"Calle falsa 789\"),\n",
    "    (\"Maria\", \"Calle verdadera 000\"),\n",
    "    (\"Oscar\", \"Calle falsa 111\"),\n",
    "    (\"Raquel\", \"Calle verdadera 222\"),\n",
    "    (\"Jorge\", \"Calle falsa 333\"),\n",
    "    (\"Javier\", \"Calle verdadera 444\"),\n",
    "    (\"Juan\", \"Calle falsa 555\")\n",
    "]\n",
    "sql = \"INSERT INTO clientes (nombre, direccion) VALUES (%s, %s)\"\n",
    "\n",
    "mycursor.executemany(sql, clientes)\n",
    "mydb.commit() # Para que se guarde en la base de datos\n",
    "print(f'Se han insertado {mycursor.rowcount} registros.')"
   ]
  },
  {
   "cell_type": "code",
   "execution_count": 19,
   "metadata": {},
   "outputs": [
    {
     "name": "stdout",
     "output_type": "stream",
     "text": [
      "(1, 'Juan', 'Calle falsa 123')\n",
      "(2, 'Pedro', 'Calle verdadera 456')\n"
     ]
    }
   ],
   "source": [
    "# Comprobamos que se han insertado correctamente, chequeando los dos primeros registros\n",
    "sql = \"SELECT * FROM clientes LIMIT 2\"\n",
    "mycursor.execute(sql)\n",
    "result = mycursor.fetchall()\n",
    "for x in result:\n",
    "    print(x)"
   ]
  },
  {
   "cell_type": "markdown",
   "metadata": {},
   "source": [
    "Parece que todo está OK! :)"
   ]
  },
  {
   "cell_type": "markdown",
   "metadata": {},
   "source": [
    "## Nivell 2"
   ]
  },
  {
   "cell_type": "markdown",
   "metadata": {},
   "source": [
    "### Exercici 2\n",
    "- Mostra que pots carregar algunes consultes senzilles a un Pandas Dataframe."
   ]
  },
  {
   "cell_type": "code",
   "execution_count": null,
   "metadata": {},
   "outputs": [],
   "source": []
  },
  {
   "cell_type": "markdown",
   "metadata": {},
   "source": [
    "## Nivell 3"
   ]
  },
  {
   "cell_type": "markdown",
   "metadata": {},
   "source": [
    "### Exercici 3\n",
    "- Genera algun gràfic que resumeixi les dades"
   ]
  },
  {
   "cell_type": "markdown",
   "metadata": {},
   "source": []
  }
 ],
 "metadata": {
  "interpreter": {
   "hash": "79249eca07adbbd5b7b90a2fa15863c0bac6e7e1ea7cd7d2122550ceec54159a"
  },
  "kernelspec": {
   "display_name": "Python 3.8.8 64-bit ('base': conda)",
   "language": "python",
   "name": "python3"
  },
  "language_info": {
   "codemirror_mode": {
    "name": "ipython",
    "version": 3
   },
   "file_extension": ".py",
   "mimetype": "text/x-python",
   "name": "python",
   "nbconvert_exporter": "python",
   "pygments_lexer": "ipython3",
   "version": "3.8.8"
  },
  "orig_nbformat": 4
 },
 "nbformat": 4,
 "nbformat_minor": 2
}
