{
 "cells": [
  {
   "cell_type": "markdown",
   "source": [
    "# Statistical Hypothesis Tests"
   ],
   "metadata": {}
  },
  {
   "cell_type": "markdown",
   "source": [
    "Fuente: https://machinelearningmastery.com/statistical-hypothesis-tests-in-python-cheat-sheet/\r\n",
    "\r\n",
    "**If the P-value is Greater than the Alpha, Do not Reject the Null.**"
   ],
   "metadata": {}
  },
  {
   "cell_type": "markdown",
   "source": [
    "## Normality Test\r\n",
    "This section lists statistical tests that you can use to check if your data has a Gaussian distribution.\r\n",
    "- Shapiro-Wilk Test\r\n",
    "- D’Agostino’s K^2 Test\r\n",
    "- Anderson-Darling Test"
   ],
   "metadata": {}
  },
  {
   "cell_type": "markdown",
   "source": [
    "### Shapiro-Wilk Test\r\n",
    "Tests whether a data sample has a Gaussian distribution."
   ],
   "metadata": {}
  },
  {
   "cell_type": "markdown",
   "source": [
    "* Assumptions:\r\n",
    "    * Observations in each sample are independent and identically distributed (iid).\r\n",
    "* Interpretation:\r\n",
    "    * H0: the sample has a Gaussian distribution.\r\n",
    "    * H1: the sample does not have a Gaussian distribution."
   ],
   "metadata": {}
  },
  {
   "cell_type": "code",
   "execution_count": 33,
   "source": [
    "# Example of the Shapiro-Wilk Normality Test\r\n",
    "from scipy.stats import shapiro\r\n",
    "data = [0.873, 2.817, 0.121, -0.945, -0.055, -1.436, 0.360, -1.478, -1.637, -1.869]\r\n",
    "stat, p = shapiro(data)\r\n",
    "print('stat=%.3f, p=%.3f' % (stat, p))\r\n",
    "if p > 0.05:\r\n",
    "\tprint('H0 accepted: Probably Gaussian')\r\n",
    "else:\r\n",
    "\tprint('H0 rejected: Probably not Gaussian')"
   ],
   "outputs": [
    {
     "output_type": "stream",
     "name": "stdout",
     "text": [
      "stat=0.895, p=0.193\n",
      "Probably not Gaussian\n"
     ]
    }
   ],
   "metadata": {}
  },
  {
   "cell_type": "markdown",
   "source": [
    "### D’Agostino’s K^2 Test\r\n",
    "Tests whether a data sample has a Gaussian distribution."
   ],
   "metadata": {}
  },
  {
   "cell_type": "markdown",
   "source": [
    "+ Assumptions\r\n",
    "    + Observations in each sample are independent and identically distributed (iid).\r\n",
    "+ Interpretation\r\n",
    "    + H0: the sample has a Gaussian distribution.\r\n",
    "    + H1: the sample does not have a Gaussian distribution."
   ],
   "metadata": {}
  },
  {
   "cell_type": "code",
   "execution_count": 34,
   "source": [
    "# Example of the D'Agostino's K^2 Normality Test\r\n",
    "from scipy.stats import normaltest\r\n",
    "data = [0.873, 2.817, 0.121, -0.945, -0.055, -1.436, 0.360, -1.478, -1.637, -1.869]\r\n",
    "stat, p = normaltest(data)\r\n",
    "print('stat=%.3f, p=%.3f' % (stat, p))\r\n",
    "if p > 0.05:\r\n",
    "\tprint('Probably Gaussian')\r\n",
    "else:\r\n",
    "\tprint('Probably not Gaussian')"
   ],
   "outputs": [
    {
     "output_type": "stream",
     "name": "stdout",
     "text": [
      "stat=3.392, p=0.183\n",
      "Probably Gaussian\n"
     ]
    },
    {
     "output_type": "stream",
     "name": "stderr",
     "text": [
      "C:\\Users\\yeray\\anaconda3\\lib\\site-packages\\scipy\\stats\\stats.py:1603: UserWarning: kurtosistest only valid for n>=20 ... continuing anyway, n=10\n",
      "  warnings.warn(\"kurtosistest only valid for n>=20 ... continuing \"\n"
     ]
    }
   ],
   "metadata": {}
  },
  {
   "cell_type": "markdown",
   "source": [
    "### Anderson-Darling Test\r\n",
    "Tests whether a data sample has a Gaussian distribution."
   ],
   "metadata": {}
  },
  {
   "cell_type": "markdown",
   "source": [
    "+ Assumptions\r\n",
    "    + Observations in each sample are independent and identically distributed (iid).\r\n",
    "+ Interpretation\r\n",
    "    + H0: the sample has a Gaussian distribution.\r\n",
    "    + H1: the sample does not have a Gaussian distribution."
   ],
   "metadata": {}
  },
  {
   "cell_type": "code",
   "execution_count": 35,
   "source": [
    "# Example of the Anderson-Darling Normality Test\r\n",
    "from scipy.stats import anderson\r\n",
    "data = [0.873, 2.817, 0.121, -0.945, -0.055, -1.436, 0.360, -1.478, -1.637, -1.869]\r\n",
    "result = anderson(data)\r\n",
    "print('stat=%.3f' % (result.statistic))\r\n",
    "for i in range(len(result.critical_values)):\r\n",
    "\tsl, cv = result.significance_level[i], result.critical_values[i]\r\n",
    "\tif result.statistic < cv:\r\n",
    "\t\tprint('Probably Gaussian at the %.1f%% level' % (sl))\r\n",
    "\telse:\r\n",
    "\t\tprint('Probably not Gaussian at the %.1f%% level' % (sl))"
   ],
   "outputs": [
    {
     "output_type": "stream",
     "name": "stdout",
     "text": [
      "stat=0.424\n",
      "Probably Gaussian at the 15.0% level\n",
      "Probably Gaussian at the 10.0% level\n",
      "Probably Gaussian at the 5.0% level\n",
      "Probably Gaussian at the 2.5% level\n",
      "Probably Gaussian at the 1.0% level\n"
     ]
    }
   ],
   "metadata": {}
  },
  {
   "cell_type": "markdown",
   "source": [
    "## Correlation Tests\r\n",
    "This section lists statistical tests that you can use to check if two samples are related.\r\n",
    "- Pearson’s Correlation Coefficient\r\n",
    "- Spearman’s Rank Correlation\r\n",
    "- Kendall’s Rank Correlation\r\n",
    "- Chi-Squared Test"
   ],
   "metadata": {}
  },
  {
   "cell_type": "markdown",
   "source": [
    "### Pearson’s Correlation Coefficient\r\n",
    "Tests whether two samples have a linear relationship."
   ],
   "metadata": {}
  },
  {
   "cell_type": "markdown",
   "source": [
    "+ Assumptions\r\n",
    "    + Observations in each sample are independent and identically distributed (iid).\r\n",
    "    + Observations in each sample are normally distributed.\r\n",
    "    + Observations in each sample have the same variance.\r\n",
    "+ Interpretation\r\n",
    "    + H0: the two samples are independent.\r\n",
    "    + H1: there is a dependency between the samples."
   ],
   "metadata": {}
  },
  {
   "cell_type": "code",
   "execution_count": 36,
   "source": [
    "# Example of the Pearson's Correlation test\r\n",
    "from scipy.stats import pearsonr\r\n",
    "data1 = [0.873, 2.817, 0.121, -0.945, -0.055, -1.436, 0.360, -1.478, -1.637, -1.869]\r\n",
    "data2 = [0.353, 3.517, 0.125, -7.545, -0.555, -1.536, 3.350, -1.578, -3.537, -1.579]\r\n",
    "stat, p = pearsonr(data1, data2)\r\n",
    "print('stat=%.3f, p=%.3f' % (stat, p))\r\n",
    "if p > 0.05:\r\n",
    "\tprint('Probably independent')\r\n",
    "else:\r\n",
    "\tprint('Probably dependent')"
   ],
   "outputs": [
    {
     "output_type": "stream",
     "name": "stdout",
     "text": [
      "stat=0.688, p=0.028\n",
      "Probably dependent\n"
     ]
    }
   ],
   "metadata": {}
  },
  {
   "cell_type": "markdown",
   "source": [
    "### Spearman’s Rank Correlation\r\n",
    "Tests whether two samples have a monotonic relationship."
   ],
   "metadata": {}
  },
  {
   "cell_type": "markdown",
   "source": [
    "+ Assumptions\r\n",
    "    + Observations in each sample are independent and identically distributed (iid).\r\n",
    "    + Observations in each sample can be ranked.\r\n",
    "+ Interpretation\r\n",
    "    + H0: the two samples are independent.\r\n",
    "    + H1: there is a dependency between the samples."
   ],
   "metadata": {}
  },
  {
   "cell_type": "code",
   "execution_count": 37,
   "source": [
    "# Example of the Spearman's Rank Correlation Test\r\n",
    "from scipy.stats import spearmanr\r\n",
    "data1 = [0.873, 2.817, 0.121, -0.945, -0.055, -1.436, 0.360, -1.478, -1.637, -1.869]\r\n",
    "data2 = [0.353, 3.517, 0.125, -7.545, -0.555, -1.536, 3.350, -1.578, -3.537, -1.579]\r\n",
    "stat, p = spearmanr(data1, data2)\r\n",
    "print('stat=%.3f, p=%.3f' % (stat, p))\r\n",
    "if p > 0.05:\r\n",
    "\tprint('Probably independent')\r\n",
    "else:\r\n",
    "\tprint('Probably dependent')"
   ],
   "outputs": [
    {
     "output_type": "stream",
     "name": "stdout",
     "text": [
      "stat=0.855, p=0.002\n",
      "Probably dependent\n"
     ]
    }
   ],
   "metadata": {}
  },
  {
   "cell_type": "markdown",
   "source": [
    "### Kendall’s Rank Correlation\r\n",
    "Tests whether two samples have a monotonic relationship."
   ],
   "metadata": {}
  },
  {
   "cell_type": "markdown",
   "source": [
    "+ Assumptions\r\n",
    "    + Observations in each sample are independent and identically distributed (iid).\r\n",
    "    + Observations in each sample can be ranked.\r\n",
    "+ Interpretation\r\n",
    "    + H0: the two samples are independent.\r\n",
    "    + H1: there is a dependency between the samples."
   ],
   "metadata": {}
  },
  {
   "cell_type": "code",
   "execution_count": 38,
   "source": [
    "# Example of the Kendall's Rank Correlation Test\r\n",
    "from scipy.stats import kendalltau\r\n",
    "data1 = [0.873, 2.817, 0.121, -0.945, -0.055, -1.436, 0.360, -1.478, -1.637, -1.869]\r\n",
    "data2 = [0.353, 3.517, 0.125, -7.545, -0.555, -1.536, 3.350, -1.578, -3.537, -1.579]\r\n",
    "stat, p = kendalltau(data1, data2)\r\n",
    "print('stat=%.3f, p=%.3f' % (stat, p))\r\n",
    "if p > 0.05:\r\n",
    "\tprint('Probably independent')\r\n",
    "else:\r\n",
    "\tprint('Probably dependent')"
   ],
   "outputs": [
    {
     "output_type": "stream",
     "name": "stdout",
     "text": [
      "stat=0.733, p=0.002\n",
      "Probably dependent\n"
     ]
    }
   ],
   "metadata": {}
  },
  {
   "cell_type": "markdown",
   "source": [
    "### Chi-Squared Test\r\n",
    "Tests whether two categorical variables are related or independent."
   ],
   "metadata": {}
  },
  {
   "cell_type": "markdown",
   "source": [
    "+ Assumptions\r\n",
    "    + Observations used in the calculation of the contingency table are independent.\r\n",
    "    + 25 or more examples in each cell of the contingency table.\r\n",
    "+ Interpretation\r\n",
    "    + H0: the two samples are independent.\r\n",
    "    + H1: there is a dependency between the samples."
   ],
   "metadata": {}
  },
  {
   "cell_type": "code",
   "execution_count": 39,
   "source": [
    "# Example of the Chi-Squared Test\r\n",
    "from scipy.stats import chi2_contingency\r\n",
    "table = [[10, 20, 30],[6,  9,  17]]\r\n",
    "stat, p, dof, expected = chi2_contingency(table)\r\n",
    "print('stat=%.3f, p=%.3f' % (stat, p))\r\n",
    "if p > 0.05:\r\n",
    "\tprint('Probably independent')\r\n",
    "else:\r\n",
    "\tprint('Probably dependent')"
   ],
   "outputs": [
    {
     "output_type": "stream",
     "name": "stdout",
     "text": [
      "stat=0.272, p=0.873\n",
      "Probably independent\n"
     ]
    }
   ],
   "metadata": {}
  },
  {
   "cell_type": "markdown",
   "source": [
    "## Stationary Tests\r\n",
    "This section lists statistical tests that you can use to check if a time series is stationary or not.\r\n",
    "- Augmented Dickey-Fuller\r\n",
    "- Kwiatkowski-Phillips-Schmidt-Shin"
   ],
   "metadata": {}
  },
  {
   "cell_type": "markdown",
   "source": [
    "### Augmented Dickey-Fuller Unit Root Test\r\n",
    "Tests whether a time series has a unit root, e.g. has a trend or more generally is autoregressive."
   ],
   "metadata": {}
  },
  {
   "cell_type": "markdown",
   "source": [
    "+ Assumptions\r\n",
    "    + Observations in are temporally ordered.\r\n",
    "+ Interpretation\r\n",
    "    + H0: a unit root is present (series is non-stationary).\r\n",
    "    + H1: a unit root is not present (series is stationary)."
   ],
   "metadata": {}
  },
  {
   "cell_type": "code",
   "execution_count": 40,
   "source": [
    "# Example of the Augmented Dickey-Fuller unit root test\r\n",
    "from statsmodels.tsa.stattools import adfuller\r\n",
    "data = [0, 1, 2, 3, 4, 5, 6, 7, 8, 9]\r\n",
    "stat, p, lags, obs, crit, t = adfuller(data)\r\n",
    "print('stat=%.3f, p=%.3f' % (stat, p))\r\n",
    "if p > 0.05:\r\n",
    "\tprint('Probably not Stationary')\r\n",
    "else:\r\n",
    "\tprint('Probably Stationary')"
   ],
   "outputs": [
    {
     "output_type": "stream",
     "name": "stdout",
     "text": [
      "stat=1.496, p=0.998\n",
      "Probably not Stationary\n"
     ]
    }
   ],
   "metadata": {}
  },
  {
   "cell_type": "markdown",
   "source": [
    "### Kwiatkowski-Phillips-Schmidt-Shin\r\n",
    "Tests whether a time series is trend stationary or not."
   ],
   "metadata": {}
  },
  {
   "cell_type": "markdown",
   "source": [
    "+ Assumptions\r\n",
    "    + Observations in are temporally ordered.\r\n",
    "+ Interpretation\r\n",
    "    + H0: the time series is not trend-stationary.\r\n",
    "    + H1: the time series is trend-stationary."
   ],
   "metadata": {}
  },
  {
   "cell_type": "code",
   "execution_count": 41,
   "source": [
    "# Example of the Kwiatkowski-Phillips-Schmidt-Shin test\r\n",
    "from statsmodels.tsa.stattools import kpss\r\n",
    "data = [0, 1, 2, 3, 4, 5, 6, 7, 8, 9]\r\n",
    "stat, p, lags, crit = kpss(data)\r\n",
    "print('stat=%.3f, p=%.3f' % (stat, p))\r\n",
    "if p > 0.05:\r\n",
    "\tprint('Probably not Stationary')\r\n",
    "else:\r\n",
    "\tprint('Probably Stationary')"
   ],
   "outputs": [
    {
     "output_type": "stream",
     "name": "stdout",
     "text": [
      "stat=0.410, p=0.073\n",
      "Probably not Stationary\n"
     ]
    },
    {
     "output_type": "stream",
     "name": "stderr",
     "text": [
      "C:\\Users\\yeray\\anaconda3\\lib\\site-packages\\statsmodels\\tsa\\stattools.py:1875: FutureWarning: The behavior of using nlags=None will change in release 0.13.Currently nlags=None is the same as nlags=\"legacy\", and so a sample-size lag length is used. After the next release, the default will change to be the same as nlags=\"auto\" which uses an automatic lag length selection method. To silence this warning, either use \"auto\" or \"legacy\"\n",
      "  warnings.warn(msg, FutureWarning)\n"
     ]
    }
   ],
   "metadata": {}
  },
  {
   "cell_type": "markdown",
   "source": [
    "## Parametric Statistical Hypothesis Tests\r\n",
    "This section lists statistical tests that you can use to compare data samples.\r\n",
    "- Student’s t-test\r\n",
    "- Paired Student’s t-test\r\n",
    "- Analysis of Variance Test (ANOVA)\r\n",
    "- Repeated Measures ANOVA Test"
   ],
   "metadata": {}
  },
  {
   "cell_type": "markdown",
   "source": [
    "### Student’s t-test\r\n",
    "Tests whether the means of two independent samples are significantly different."
   ],
   "metadata": {}
  },
  {
   "cell_type": "markdown",
   "source": [
    "+ Assumptions\r\n",
    "    + Observations in each sample are independent and identically distributed (iid).\r\n",
    "    + Observations in each sample are normally distributed.\r\n",
    "    + Observations in each sample have the same variance.\r\n",
    "+ Interpretation\r\n",
    "    + H0: the means of the samples are equal.\r\n",
    "    + H1: the means of the samples are unequal."
   ],
   "metadata": {}
  },
  {
   "cell_type": "code",
   "execution_count": 42,
   "source": [
    "# Example of the Student's t-test\r\n",
    "from scipy.stats import ttest_ind\r\n",
    "data1 = [0.873, 2.817, 0.121, -0.945, -0.055, -1.436, 0.360, -1.478, -1.637, -1.869]\r\n",
    "data2 = [1.142, -0.432, -0.938, -0.729, -0.846, -0.157, 0.500, 1.183, -1.075, -0.169]\r\n",
    "stat, p = ttest_ind(data1, data2)\r\n",
    "print('stat=%.3f, p=%.3f' % (stat, p))\r\n",
    "if p > 0.05:\r\n",
    "\tprint('Probably the same distribution')\r\n",
    "else:\r\n",
    "\tprint('Probably different distributions')"
   ],
   "outputs": [
    {
     "output_type": "stream",
     "name": "stdout",
     "text": [
      "stat=-0.326, p=0.748\n",
      "Probably the same distribution\n"
     ]
    }
   ],
   "metadata": {}
  },
  {
   "cell_type": "markdown",
   "source": [
    "### Paired Student’s t-test\r\n",
    "Tests whether the means of two paired samples are significantly different."
   ],
   "metadata": {}
  },
  {
   "cell_type": "markdown",
   "source": [
    "+ Assumptions\r\n",
    "    + Observations in each sample are independent and identically distributed (iid).\r\n",
    "    + Observations in each sample are normally distributed.\r\n",
    "    + Observations in each sample have the same variance.\r\n",
    "    + Observations across each sample are paired.\r\n",
    "+ Interpretation\r\n",
    "    + H0: the means of the samples are equal.\r\n",
    "    + H1: the means of the samples are unequal."
   ],
   "metadata": {}
  },
  {
   "cell_type": "code",
   "execution_count": 43,
   "source": [
    "# Example of the Paired Student's t-test\r\n",
    "from scipy.stats import ttest_rel\r\n",
    "data1 = [0.873, 2.817, 0.121, -0.945, -0.055, -1.436, 0.360, -1.478, -1.637, -1.869]\r\n",
    "data2 = [1.142, -0.432, -0.938, -0.729, -0.846, -0.157, 0.500, 1.183, -1.075, -0.169]\r\n",
    "stat, p = ttest_rel(data1, data2)\r\n",
    "print('stat=%.3f, p=%.3f' % (stat, p))\r\n",
    "if p > 0.05:\r\n",
    "\tprint('Probably the same distribution')\r\n",
    "else:\r\n",
    "\tprint('Probably different distributions')"
   ],
   "outputs": [
    {
     "output_type": "stream",
     "name": "stdout",
     "text": [
      "stat=-0.334, p=0.746\n",
      "Probably the same distribution\n"
     ]
    }
   ],
   "metadata": {}
  },
  {
   "cell_type": "markdown",
   "source": [
    "### Analysis of Variance Test (ANOVA)\r\n",
    "Tests whether the means of two or more independent samples are significantly different."
   ],
   "metadata": {}
  },
  {
   "cell_type": "markdown",
   "source": [
    "+ Assumptions\r\n",
    "    + Observations in each sample are independent and identically distributed (iid).\r\n",
    "    + Observations in each sample are normally distributed.\r\n",
    "    + Observations in each sample have the same variance.\r\n",
    "+ Interpretation\r\n",
    "    + H0: the means of the samples are equal.\r\n",
    "    + H1: one or more of the means of the samples are unequal"
   ],
   "metadata": {}
  },
  {
   "cell_type": "code",
   "execution_count": 44,
   "source": [
    "# Example of the Analysis of Variance Test\r\n",
    "from scipy.stats import f_oneway\r\n",
    "data1 = [0.873, 2.817, 0.121, -0.945, -0.055, -1.436, 0.360, -1.478, -1.637, -1.869]\r\n",
    "data2 = [1.142, -0.432, -0.938, -0.729, -0.846, -0.157, 0.500, 1.183, -1.075, -0.169]\r\n",
    "data3 = [-0.208, 0.696, 0.928, -1.148, -0.213, 0.229, 0.137, 0.269, -0.870, -1.204]\r\n",
    "stat, p = f_oneway(data1, data2, data3)\r\n",
    "print('stat=%.3f, p=%.3f' % (stat, p))\r\n",
    "if p > 0.05:\r\n",
    "\tprint('Probably the same distribution')\r\n",
    "else:\r\n",
    "\tprint('Probably different distributions')"
   ],
   "outputs": [
    {
     "output_type": "stream",
     "name": "stdout",
     "text": [
      "stat=0.096, p=0.908\n",
      "Probably the same distribution\n"
     ]
    }
   ],
   "metadata": {}
  },
  {
   "cell_type": "markdown",
   "source": [
    "### Repeated Measures ANOVA Test\r\n",
    "Tests whether the means of two or more paired samples are significantly different."
   ],
   "metadata": {}
  },
  {
   "cell_type": "markdown",
   "source": [
    "+ Assumptions\r\n",
    "    + Observations in each sample are independent and identically distributed (iid).\r\n",
    "    + Observations in each sample are normally distributed.\r\n",
    "    + Observations in each sample have the same variance.\r\n",
    "    + Observations across each sample are paired.\r\n",
    "+ Interpretation\r\n",
    "    + H0: the means of the samples are equal.\r\n",
    "    + H1: one or more of the means of the samples are unequal.\r\n",
    "+ Python Code\r\n",
    "    + Currently not supported in Python."
   ],
   "metadata": {}
  },
  {
   "cell_type": "markdown",
   "source": [
    "## Nonparametric Statistical Hypothesis Tests\r\n",
    "- Mann-Whitney U Test\r\n",
    "- Wilcoxon Signed-Rank Test\r\n",
    "- Kruskal-Wallis H Test\r\n",
    "- Friedman Test"
   ],
   "metadata": {}
  },
  {
   "cell_type": "markdown",
   "source": [
    "### Mann-Whitney U Test\r\n",
    "Tests whether the distributions of two independent samples are equal or not."
   ],
   "metadata": {}
  },
  {
   "cell_type": "markdown",
   "source": [
    "+ Assumptions\r\n",
    "    + Observations in each sample are independent and identically distributed (iid).\r\n",
    "    + Observations in each sample can be ranked.\r\n",
    "+ Interpretation\r\n",
    "    + H0: the distributions of both samples are equal.\r\n",
    "    + H1: the distributions of both samples are not equal."
   ],
   "metadata": {}
  },
  {
   "cell_type": "code",
   "execution_count": 45,
   "source": [
    "# Example of the Mann-Whitney U Test\r\n",
    "from scipy.stats import mannwhitneyu\r\n",
    "data1 = [0.873, 2.817, 0.121, -0.945, -0.055, -1.436, 0.360, -1.478, -1.637, -1.869]\r\n",
    "data2 = [1.142, -0.432, -0.938, -0.729, -0.846, -0.157, 0.500, 1.183, -1.075, -0.169]\r\n",
    "stat, p = mannwhitneyu(data1, data2)\r\n",
    "print('stat=%.3f, p=%.3f' % (stat, p))\r\n",
    "if p > 0.05:\r\n",
    "\tprint('Probably the same distribution')\r\n",
    "else:\r\n",
    "\tprint('Probably different distributions')"
   ],
   "outputs": [
    {
     "output_type": "stream",
     "name": "stdout",
     "text": [
      "stat=40.000, p=0.236\n",
      "Probably the same distribution\n"
     ]
    }
   ],
   "metadata": {}
  },
  {
   "cell_type": "markdown",
   "source": [
    "### Wilcoxon Signed-Rank Test\r\n",
    "Tests whether the distributions of two paired samples are equal or not."
   ],
   "metadata": {}
  },
  {
   "cell_type": "markdown",
   "source": [
    "+ Assumptions\r\n",
    "    + Observations in each sample are independent and identically distributed (iid).\r\n",
    "    + Observations in each sample can be ranked.\r\n",
    "    + Observations across each sample are paired.\r\n",
    "+ Interpretation\r\n",
    "    + H0: the distributions of both samples are equal.\r\n",
    "    + H1: the distributions of both samples are not equal."
   ],
   "metadata": {}
  },
  {
   "cell_type": "code",
   "execution_count": 46,
   "source": [
    "# Example of the Wilcoxon Signed-Rank Test\r\n",
    "from scipy.stats import wilcoxon\r\n",
    "data1 = [0.873, 2.817, 0.121, -0.945, -0.055, -1.436, 0.360, -1.478, -1.637, -1.869]\r\n",
    "data2 = [1.142, -0.432, -0.938, -0.729, -0.846, -0.157, 0.500, 1.183, -1.075, -0.169]\r\n",
    "stat, p = wilcoxon(data1, data2)\r\n",
    "print('stat=%.3f, p=%.3f' % (stat, p))\r\n",
    "if p > 0.05:\r\n",
    "\tprint('Probably the same distribution')\r\n",
    "else:\r\n",
    "\tprint('Probably different distributions')"
   ],
   "outputs": [
    {
     "output_type": "stream",
     "name": "stdout",
     "text": [
      "stat=21.000, p=0.557\n",
      "Probably the same distribution\n"
     ]
    }
   ],
   "metadata": {}
  },
  {
   "cell_type": "markdown",
   "source": [
    "### Kruskal-Wallis H Test\r\n",
    "Tests whether the distributions of two or more independent samples are equal or not."
   ],
   "metadata": {}
  },
  {
   "cell_type": "markdown",
   "source": [
    "+ Assumptions\r\n",
    "    + Observations in each sample are independent and identically distributed (iid).\r\n",
    "    + Observations in each sample can be ranked.\r\n",
    "+ Interpretation\r\n",
    "    + H0: the distributions of all samples are equal.\r\n",
    "    + H1: the distributions of one or more samples are not equal."
   ],
   "metadata": {}
  },
  {
   "cell_type": "code",
   "execution_count": 47,
   "source": [
    "# Example of the Kruskal-Wallis H Test\r\n",
    "from scipy.stats import kruskal\r\n",
    "data1 = [0.873, 2.817, 0.121, -0.945, -0.055, -1.436, 0.360, -1.478, -1.637, -1.869]\r\n",
    "data2 = [1.142, -0.432, -0.938, -0.729, -0.846, -0.157, 0.500, 1.183, -1.075, -0.169]\r\n",
    "stat, p = kruskal(data1, data2)\r\n",
    "print('stat=%.3f, p=%.3f' % (stat, p))\r\n",
    "if p > 0.05:\r\n",
    "\tprint('Probably the same distribution')\r\n",
    "else:\r\n",
    "\tprint('Probably different distributions')"
   ],
   "outputs": [
    {
     "output_type": "stream",
     "name": "stdout",
     "text": [
      "stat=0.571, p=0.450\n",
      "Probably the same distribution\n"
     ]
    }
   ],
   "metadata": {}
  },
  {
   "cell_type": "markdown",
   "source": [
    "### Friedman Test\r\n",
    "Tests whether the distributions of two or more paired samples are equal or not."
   ],
   "metadata": {}
  },
  {
   "cell_type": "markdown",
   "source": [
    "+ Assumptions\r\n",
    "    + Observations in each sample are independent and identically distributed (iid).\r\n",
    "    + Observations in each sample can be ranked.\r\n",
    "    + Observations across each sample are paired.\r\n",
    "+ Interpretation\r\n",
    "    + H0: the distributions of all samples are equal.\r\n",
    "    + H1: the distributions of one or more samples are not equal."
   ],
   "metadata": {}
  },
  {
   "cell_type": "code",
   "execution_count": 48,
   "source": [
    "# Example of the Friedman Test\r\n",
    "from scipy.stats import friedmanchisquare\r\n",
    "data1 = [0.873, 2.817, 0.121, -0.945, -0.055, -1.436, 0.360, -1.478, -1.637, -1.869]\r\n",
    "data2 = [1.142, -0.432, -0.938, -0.729, -0.846, -0.157, 0.500, 1.183, -1.075, -0.169]\r\n",
    "data3 = [-0.208, 0.696, 0.928, -1.148, -0.213, 0.229, 0.137, 0.269, -0.870, -1.204]\r\n",
    "stat, p = friedmanchisquare(data1, data2, data3)\r\n",
    "print('stat=%.3f, p=%.3f' % (stat, p))\r\n",
    "if p > 0.05:\r\n",
    "\tprint('Probably the same distribution')\r\n",
    "else:\r\n",
    "\tprint('Probably different distributions')"
   ],
   "outputs": [
    {
     "output_type": "stream",
     "name": "stdout",
     "text": [
      "stat=0.800, p=0.670\n",
      "Probably the same distribution\n"
     ]
    }
   ],
   "metadata": {}
  }
 ],
 "metadata": {
  "orig_nbformat": 4,
  "language_info": {
   "name": "python",
   "version": "3.8.8",
   "mimetype": "text/x-python",
   "codemirror_mode": {
    "name": "ipython",
    "version": 3
   },
   "pygments_lexer": "ipython3",
   "nbconvert_exporter": "python",
   "file_extension": ".py"
  },
  "kernelspec": {
   "name": "python3",
   "display_name": "Python 3.8.8 64-bit ('base': conda)"
  },
  "interpreter": {
   "hash": "79249eca07adbbd5b7b90a2fa15863c0bac6e7e1ea7cd7d2122550ceec54159a"
  }
 },
 "nbformat": 4,
 "nbformat_minor": 2
}