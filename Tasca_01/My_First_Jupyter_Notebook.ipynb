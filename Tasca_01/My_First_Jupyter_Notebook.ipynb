{
 "cells": [
  {
   "cell_type": "markdown",
   "metadata": {},
   "source": [
    "# This is my first Notebook using Jupyter!"
   ]
  },
  {
   "cell_type": "markdown",
   "metadata": {},
   "source": [
    "## Lets do some calculus"
   ]
  },
  {
   "cell_type": "code",
   "execution_count": 1,
   "metadata": {
    "ExecuteTime": {
     "end_time": "2021-04-19T08:17:24.026324Z",
     "start_time": "2021-04-19T08:17:20.404233Z"
    },
    "scrolled": false
   },
   "outputs": [
    {
     "name": "stdout",
     "output_type": "stream",
     "text": [
      "Enter an integer number36\n",
      "If we add 5 to your number the result is: 41 :)\n"
     ]
    }
   ],
   "source": [
    "x = 5\n",
    "y = int(input(\"Enter an integer number\"))\n",
    "add = x + y\n",
    "\n",
    "print(\"If we add 5 to your number the result is: \" + str(add) + \" :)\")"
   ]
  },
  {
   "cell_type": "markdown",
   "metadata": {},
   "source": [
    "Well done! We have done our **first mathematical operation**! 🤓"
   ]
  },
  {
   "cell_type": "code",
   "execution_count": 2,
   "metadata": {
    "ExecuteTime": {
     "end_time": "2021-04-19T08:17:25.702624Z",
     "start_time": "2021-04-19T08:17:24.029322Z"
    }
   },
   "outputs": [
    {
     "name": "stdout",
     "output_type": "stream",
     "text": [
      "Now, enter a float number7\n",
      "The addition we made before, divided by your number (and rounded to the 3rd decimal if it necessary) is:  5.857\n"
     ]
    }
   ],
   "source": [
    "z = float(input(\"Now, enter a float number\"))\n",
    "div = round((add / z), 3)\n",
    "print(\"The addition we made before, divided by your number (and rounded to the 3rd decimal if it necessary) is: \", div)"
   ]
  },
  {
   "cell_type": "markdown",
   "metadata": {},
   "source": [
    "**_I've just discovered how to enter in the command mode!!!_** 🤪🤪"
   ]
  },
  {
   "cell_type": "code",
   "execution_count": 3,
   "metadata": {
    "ExecuteTime": {
     "end_time": "2021-04-19T08:17:25.710618Z",
     "start_time": "2021-04-19T08:17:25.705623Z"
    }
   },
   "outputs": [
    {
     "name": "stdout",
     "output_type": "stream",
     "text": [
      "The used numbers are:\n",
      "[5, 36, 41, 7.0, 5.857]\n"
     ]
    }
   ],
   "source": [
    "your_numbers = [x, y, add, z, div]\n",
    "\n",
    "print(\"The used numbers are:\")\n",
    "print(your_numbers)"
   ]
  },
  {
   "cell_type": "markdown",
   "metadata": {},
   "source": [
    "***\n",
    "Now we have:\n",
    "* A default number\n",
    "* Two numbers choosen by you\n",
    "* Two operations:\n",
    " * Addition\n",
    " * Division\n",
    "*** "
   ]
  },
  {
   "cell_type": "code",
   "execution_count": 4,
   "metadata": {
    "ExecuteTime": {
     "end_time": "2021-04-19T08:17:25.892377Z",
     "start_time": "2021-04-19T08:17:25.713615Z"
    }
   },
   "outputs": [
    {
     "name": "stdout",
     "output_type": "stream",
     "text": [
      "Each number correspond to: \n",
      "{'my_num1': 5, 'your_num1': 36, 'addition': 41, 'your_num2': 7.0, 'division': 5.857}\n"
     ]
    }
   ],
   "source": [
    "my_variables = [\"my_num1\", \"your_num1\", \"addition\", \"your_num2\", \"division\"]\n",
    "dict_numbers = {my_variables[i]:your_numbers[i] for i in range(len(my_variables))}\n",
    "\n",
    "print(\"Each number correspond to: \")\n",
    "print(dict_numbers)"
   ]
  },
  {
   "cell_type": "markdown",
   "metadata": {},
   "source": [
    "We have all the numbers in a dictionary, using some keys to distinguish them!"
   ]
  },
  {
   "cell_type": "markdown",
   "metadata": {},
   "source": [
    "**<font color = blue>Not bad for my first Jupyter Notebook!!!</font>**\n",
    "<img src=\"https://static.wikia.nocookie.net/memes-pedia/images/3/3d/Not_Bad.png/revision/latest?cb=20160113232530&path-prefix=es\" alt=\"Not bad meme\" title=\"Not Bad\" />"
   ]
  },
  {
   "cell_type": "markdown",
   "metadata": {},
   "source": [
    "**New discovery!!!** I can upload images in two diferent ways: \n",
    "1. As before, using \"html\" syntax: < img src=\"url\" alt=\" \" title=\" \"/>\n",
    "2. Or using this syntax: !\\[alt text here](url-to-image-here)\\\n",
    "\n",
    "![Nice](https://i.pinimg.com/564x/df/1c/7c/df1c7c8d31468de916efc0054b04f262.jpg)"
   ]
  },
  {
   "attachments": {
    "image.png": {
     "image/png": "[encoded data removed]"
    }
   },
   "cell_type": "markdown",
   "metadata": {},
   "source": [
    "## After installing the nbextensions, I enabled some of the options and <span class=\"girk\">my toogle bar</span> looks like it follows:\n",
    "    \n",
    "![image.png](attachment:image.png)\n",
    "    "
   ]
  },
  {
   "cell_type": "code",
   "execution_count": 5,
   "metadata": {
    "ExecuteTime": {
     "end_time": "2021-04-19T08:17:26.038912Z",
     "start_time": "2021-04-19T08:17:25.899375Z"
    }
   },
   "outputs": [],
   "source": [
    "dict_keys = list(dict_numbers.keys())\n",
    "dict_values = list(dict_numbers.values())"
   ]
  },
  {
   "cell_type": "markdown",
   "metadata": {
    "variables": {
     "dict_keys[0]": "my_num1",
     "dict_keys[1]": "your_num1",
     "dict_keys[2]": "addition",
     "dict_keys[3]": "your_num2",
     "dict_keys[4]": "division",
     "dict_values[0]": "5",
     "dict_values[1]": "36",
     "dict_values[2]": "41",
     "dict_values[3]": "7.0",
     "dict_values[4]": "5.857"
    }
   },
   "source": [
    "**With this extension, enabling the \"Python Markdown\" extension, I can show variables in a marckdown cell as this one.**\n",
    "The previous calculus we have done were stored in the dictionary variable \"dict_numbers\" and it contains the following:\n",
    "\n",
    "| Index | 0 | 1 | 2 | 3 | 4 |\n",
    "|:-------:|:---:|:---:|:---:|:---:|:---:|\n",
    "| Key | {{dict_keys[0]}} | {{dict_keys[1]}} | {{dict_keys[2]}} | {{dict_keys[3]}} | {{dict_keys[4]}} |\n",
    "| Value | {{dict_values[0]}} | {{dict_values[1]}} | {{dict_values[2]}} | {{dict_values[3]}} | {{dict_values[4]}} |\n",
    "\n",
    "I've just realized that in the HTML export or in the PDF export, the dict_keys and dict_values don't appear inside the table. Running this markdown cell with jupyter we see this:\n",
    "\n",
    "![Table view in Markdown](.\\Table1.png)\n"
   ]
  },
  {
   "cell_type": "markdown",
   "metadata": {},
   "source": [
    "# Lets continue having fun :)!"
   ]
  },
  {
   "cell_type": "code",
   "execution_count": null,
   "metadata": {},
   "outputs": [],
   "source": []
  }
 ],
 "metadata": {
  "kernelspec": {
   "display_name": "Python 3",
   "language": "python",
   "name": "python3"
  },
  "language_info": {
   "codemirror_mode": {
    "name": "ipython",
    "version": 3
   },
   "file_extension": ".py",
   "mimetype": "text/x-python",
   "name": "python",
   "nbconvert_exporter": "python",
   "pygments_lexer": "ipython3",
   "version": "3.8.5"
  },
  "toc": {
   "base_numbering": 1,
   "nav_menu": {},
   "number_sections": true,
   "sideBar": true,
   "skip_h1_title": false,
   "title_cell": "Table of Contents",
   "title_sidebar": "Contents",
   "toc_cell": false,
   "toc_position": {
    "height": "calc(100% - 180px)",
    "left": "10px",
    "top": "150px",
    "width": "165px"
   },
   "toc_section_display": true,
   "toc_window_display": true
  },
  "varInspector": {
   "cols": {
    "lenName": 16,
    "lenType": 16,
    "lenVar": 40
   },
   "kernels_config": {
    "python": {
     "delete_cmd_postfix": "",
     "delete_cmd_prefix": "del ",
     "library": "var_list.py",
     "varRefreshCmd": "print(var_dic_list())"
    },
    "r": {
     "delete_cmd_postfix": ") ",
     "delete_cmd_prefix": "rm(",
     "library": "var_list.r",
     "varRefreshCmd": "cat(var_dic_list()) "
    }
   },
   "types_to_exclude": [
    "module",
    "function",
    "builtin_function_or_method",
    "instance",
    "_Feature"
   ],
   "window_display": false
  }
 },
 "nbformat": 4,
 "nbformat_minor": 4
}
